{
 "cells": [
  {
   "cell_type": "markdown",
   "id": "ade045b6",
   "metadata": {},
   "source": [
    "# Análise de Afinidade Artística com Machine Learning e NLP\n",
    "\n",
    "> Este projeto utiliza técnicas de aprendizado de máquina e processamento de linguagem natural (NLP) para analisar como os artistas se alinham com a sua época, com base nas letras de músicas e atributos musicais. O estudo envolve coleta de dados do Spotify, pré-processamento de texto, vetorização, análise de sentimento e cálculo de afinidade.\n"
   ]
  },
  {
   "cell_type": "markdown",
   "id": "7ec9aa12",
   "metadata": {},
   "source": [
    "## Objetivos do Projeto\n",
    "\n",
    "- Entender qual o sentimento e contexto sociocultural foi transmitido em cada década da música\n",
    "- Analisar quais artistas mais se distanciavam do contexto de sua época e quais artistas mais abraçavam esse contexto\n",
    "- Conceder uma resposta para a pergunta: A música do nosso século é apenas produto industrial?"
   ]
  },
  {
   "cell_type": "markdown",
   "id": "7b433aa2",
   "metadata": {},
   "source": [
    "## Importação de Bibliotecas e Configuração\n",
    "\n",
    "> Neste trecho, importamos as bibliotecas necessárias e configuramos variáveis de ambiente com as credenciais da API do Spotify e Kaggle.\n",
    "\n",
    "> Esse trecho é desnecessário caso já possua o dataset *clean_music_dataset.csv* em seu diretório. \n",
    "\n",
    "(A única chave de API que precisaria ser iniciada é a Gemini API Key)\n",
    "\n",
    "> Em seguida baixamos o dataset de músicas com atributos e letras utilizando o KaggleHub."
   ]
  },
  {
   "cell_type": "code",
   "execution_count": 3,
   "id": "12851cc7",
   "metadata": {},
   "outputs": [],
   "source": [
    "import os\n",
    "from dotenv import load_dotenv\n",
    "load_dotenv()\n",
    "GEMINI_API_KEY = os.getenv('GEMINI_API_KEY')\n",
    "SPOTIFY_SECRET = os.getenv('SPOTIFY_SECRET')\n",
    "SPOTIFY_CLIENT_ID = os.getenv('SPOTIFY_CLIENT_ID')"
   ]
  },
  {
   "cell_type": "code",
   "execution_count": 2,
   "id": "185539b1",
   "metadata": {},
   "outputs": [
    {
     "name": "stdout",
     "output_type": "stream",
     "text": [
      "Warning: Looks like you're using an outdated `kagglehub` version (installed: 0.3.9), please consider upgrading to the latest version (0.3.12).\n"
     ]
    },
    {
     "data": {
      "text/html": [
       "<div>\n",
       "<style scoped>\n",
       "    .dataframe tbody tr th:only-of-type {\n",
       "        vertical-align: middle;\n",
       "    }\n",
       "\n",
       "    .dataframe tbody tr th {\n",
       "        vertical-align: top;\n",
       "    }\n",
       "\n",
       "    .dataframe thead th {\n",
       "        text-align: right;\n",
       "    }\n",
       "</style>\n",
       "<table border=\"1\" class=\"dataframe\">\n",
       "  <thead>\n",
       "    <tr style=\"text-align: right;\">\n",
       "      <th></th>\n",
       "      <th>id</th>\n",
       "      <th>name</th>\n",
       "      <th>album_name</th>\n",
       "      <th>artists</th>\n",
       "      <th>danceability</th>\n",
       "      <th>energy</th>\n",
       "      <th>key</th>\n",
       "      <th>loudness</th>\n",
       "      <th>mode</th>\n",
       "      <th>speechiness</th>\n",
       "      <th>acousticness</th>\n",
       "      <th>instrumentalness</th>\n",
       "      <th>liveness</th>\n",
       "      <th>valence</th>\n",
       "      <th>tempo</th>\n",
       "      <th>duration_ms</th>\n",
       "      <th>lyrics</th>\n",
       "    </tr>\n",
       "  </thead>\n",
       "  <tbody>\n",
       "    <tr>\n",
       "      <th>0</th>\n",
       "      <td>0Prct5TDjAnEgIqbxcldY9</td>\n",
       "      <td>!</td>\n",
       "      <td>UNDEN!ABLE</td>\n",
       "      <td>['HELLYEAH']</td>\n",
       "      <td>0.415</td>\n",
       "      <td>0.6050</td>\n",
       "      <td>7</td>\n",
       "      <td>-11.157</td>\n",
       "      <td>1</td>\n",
       "      <td>0.0575</td>\n",
       "      <td>0.00116</td>\n",
       "      <td>0.838000</td>\n",
       "      <td>0.4710</td>\n",
       "      <td>0.193</td>\n",
       "      <td>100.059</td>\n",
       "      <td>79500.0</td>\n",
       "      <td>He said he came from Jamaica,\\n he owned a cou...</td>\n",
       "    </tr>\n",
       "    <tr>\n",
       "      <th>1</th>\n",
       "      <td>2ASl4wirkeYm3OWZxXKYuq</td>\n",
       "      <td>!!</td>\n",
       "      <td>NaN</td>\n",
       "      <td>Yxngxr1</td>\n",
       "      <td>0.788</td>\n",
       "      <td>0.6480</td>\n",
       "      <td>7</td>\n",
       "      <td>-9.135</td>\n",
       "      <td>0</td>\n",
       "      <td>0.3150</td>\n",
       "      <td>0.90000</td>\n",
       "      <td>0.000000</td>\n",
       "      <td>0.1760</td>\n",
       "      <td>0.287</td>\n",
       "      <td>79.998</td>\n",
       "      <td>114000.0</td>\n",
       "      <td>Fucked a bitch, now she running with my kids\\n...</td>\n",
       "    </tr>\n",
       "    <tr>\n",
       "      <th>2</th>\n",
       "      <td>69lcggVPmOr9cvPx9kLiiN</td>\n",
       "      <td>!!! - Interlude</td>\n",
       "      <td>Where I Belong EP</td>\n",
       "      <td>['Glowie']</td>\n",
       "      <td>0.000</td>\n",
       "      <td>0.0354</td>\n",
       "      <td>7</td>\n",
       "      <td>-20.151</td>\n",
       "      <td>0</td>\n",
       "      <td>0.0000</td>\n",
       "      <td>0.90800</td>\n",
       "      <td>0.000000</td>\n",
       "      <td>0.4790</td>\n",
       "      <td>0.000</td>\n",
       "      <td>0.000</td>\n",
       "      <td>11413.0</td>\n",
       "      <td>Oh, my God, I'm going crazy\\n</td>\n",
       "    </tr>\n",
       "    <tr>\n",
       "      <th>3</th>\n",
       "      <td>4U7dlZjg1s9pjdppqZy0fm</td>\n",
       "      <td>!!De Repente!!</td>\n",
       "      <td>Un Palo Al Agua (20 Grandes Canciones)</td>\n",
       "      <td>['Rosendo']</td>\n",
       "      <td>0.657</td>\n",
       "      <td>0.8820</td>\n",
       "      <td>5</td>\n",
       "      <td>-6.340</td>\n",
       "      <td>1</td>\n",
       "      <td>0.0385</td>\n",
       "      <td>0.00740</td>\n",
       "      <td>0.000013</td>\n",
       "      <td>0.0474</td>\n",
       "      <td>0.939</td>\n",
       "      <td>123.588</td>\n",
       "      <td>198173.0</td>\n",
       "      <td>Continuamente se extraña la gente si no puede ...</td>\n",
       "    </tr>\n",
       "    <tr>\n",
       "      <th>4</th>\n",
       "      <td>4v1IBp3Y3rpkWmWzIlkYju</td>\n",
       "      <td>!!De Repente!!</td>\n",
       "      <td>Fuera De Lugar</td>\n",
       "      <td>['Rosendo']</td>\n",
       "      <td>0.659</td>\n",
       "      <td>0.8930</td>\n",
       "      <td>5</td>\n",
       "      <td>-8.531</td>\n",
       "      <td>1</td>\n",
       "      <td>0.0411</td>\n",
       "      <td>0.09220</td>\n",
       "      <td>0.000019</td>\n",
       "      <td>0.0534</td>\n",
       "      <td>0.951</td>\n",
       "      <td>123.600</td>\n",
       "      <td>199827.0</td>\n",
       "      <td>Continuamente se extraña la gente si no puede ...</td>\n",
       "    </tr>\n",
       "  </tbody>\n",
       "</table>\n",
       "</div>"
      ],
      "text/plain": [
       "                       id             name  \\\n",
       "0  0Prct5TDjAnEgIqbxcldY9                !   \n",
       "1  2ASl4wirkeYm3OWZxXKYuq               !!   \n",
       "2  69lcggVPmOr9cvPx9kLiiN  !!! - Interlude   \n",
       "3  4U7dlZjg1s9pjdppqZy0fm   !!De Repente!!   \n",
       "4  4v1IBp3Y3rpkWmWzIlkYju   !!De Repente!!   \n",
       "\n",
       "                               album_name       artists  danceability  energy  \\\n",
       "0                              UNDEN!ABLE  ['HELLYEAH']         0.415  0.6050   \n",
       "1                                     NaN       Yxngxr1         0.788  0.6480   \n",
       "2                       Where I Belong EP    ['Glowie']         0.000  0.0354   \n",
       "3  Un Palo Al Agua (20 Grandes Canciones)   ['Rosendo']         0.657  0.8820   \n",
       "4                          Fuera De Lugar   ['Rosendo']         0.659  0.8930   \n",
       "\n",
       "  key  loudness mode  speechiness  acousticness  instrumentalness  liveness  \\\n",
       "0   7   -11.157    1       0.0575       0.00116          0.838000    0.4710   \n",
       "1   7    -9.135    0       0.3150       0.90000          0.000000    0.1760   \n",
       "2   7   -20.151    0       0.0000       0.90800          0.000000    0.4790   \n",
       "3   5    -6.340    1       0.0385       0.00740          0.000013    0.0474   \n",
       "4   5    -8.531    1       0.0411       0.09220          0.000019    0.0534   \n",
       "\n",
       "   valence    tempo  duration_ms  \\\n",
       "0    0.193  100.059      79500.0   \n",
       "1    0.287   79.998     114000.0   \n",
       "2    0.000    0.000      11413.0   \n",
       "3    0.939  123.588     198173.0   \n",
       "4    0.951  123.600     199827.0   \n",
       "\n",
       "                                              lyrics  \n",
       "0  He said he came from Jamaica,\\n he owned a cou...  \n",
       "1  Fucked a bitch, now she running with my kids\\n...  \n",
       "2                     Oh, my God, I'm going crazy\\n   \n",
       "3  Continuamente se extraña la gente si no puede ...  \n",
       "4  Continuamente se extraña la gente si no puede ...  "
      ]
     },
     "execution_count": 2,
     "metadata": {},
     "output_type": "execute_result"
    }
   ],
   "source": [
    "import kagglehub\n",
    "import pandas as pd\n",
    "from pathlib import Path\n",
    "\n",
    "path = kagglehub.dataset_download(\"bwandowando/spotify-songs-with-attributes-and-lyrics\")\n",
    "\n",
    "path = Path(path)\n",
    "df = pd.read_csv(path / 'songs_with_attributes_and_lyrics.csv')\n",
    "df.head()"
   ]
  },
  {
   "cell_type": "markdown",
   "id": "1f226d05",
   "metadata": {},
   "source": [
    "> Nesse trechco utilizo a API do Spotify para preencher os campos de ano e popularidade das músicas utilizando o id do dataset.\n",
    "\n",
    "> Para tratar o dataset completo, basta redefinir a varíavel *LIMIT* para um número <= 0\n",
    "\n",
    "> O código opera com salvamento a cada 500 linhas adicionadas, uma vez que ao terminar a cota da API essa só pode ser reutilizada após 24 horas.\n",
    "\n",
    "> Recomenda-se ajuste do parâmetro LIMIT para realização de testes, uma vez que por limitações da API do spotify o dataset não pode ser inteiramente tratado em um único dia.\n",
    "\n",
    "> API do Spotify suporta 5000 requisições diárias, o que equivale a 250000 músicas considerando o batch máximo de 50."
   ]
  },
  {
   "cell_type": "code",
   "execution_count": null,
   "id": "c2606faf",
   "metadata": {},
   "outputs": [
    {
     "name": "stderr",
     "output_type": "stream",
     "text": [
      " 40%|███▉      | 5001/12617 [38:57<13:27:05,  6.36s/it]WARNING:root:Your application has reached a rate/request limit. Retry will occur after: 84063\n"
     ]
    }
   ],
   "source": [
    "import pandas as pd\n",
    "from spotipy import Spotify\n",
    "from spotipy.oauth2 import SpotifyClientCredentials\n",
    "from tqdm import tqdm\n",
    "\n",
    "ARQUIVO_SAIDA = \"music_dataset_new.csv\"\n",
    "LIMIT = -1 \n",
    "BATCH_SIZE = 50\n",
    "SAVE_FACTOR = 50000\n",
    "\n",
    "client_credentials_manager = SpotifyClientCredentials(\n",
    "    client_id=SPOTIFY_CLIENT_ID,\n",
    "    client_secret=SPOTIFY_SECRET\n",
    ")\n",
    "sp = Spotify(client_credentials_manager=client_credentials_manager)\n",
    "\n",
    "if LIMIT > 0:\n",
    "    df = df.head(LIMIT).copy()\n",
    "\n",
    "try:\n",
    "    df_saida = pd.read_csv(ARQUIVO_SAIDA)\n",
    "except FileNotFoundError:\n",
    "    df_saida = df.copy()\n",
    "    df_saida['year'] = None\n",
    "    df_saida['popularity'] = None\n",
    "\n",
    "ids_faltantes = df.loc[~df['id'].isin(df_saida['id'])].copy()\n",
    "if not ids_faltantes.empty:\n",
    "    ids_faltantes['year'] = None\n",
    "    ids_faltantes['popularity'] = None\n",
    "    df_saida = pd.concat([df_saida, ids_faltantes], ignore_index=True)\n",
    "\n",
    "df_para_processar = df_saida[df_saida['year'].isna() | df_saida['popularity'].isna()].copy()\n",
    "\n",
    "def get_years_and_popularity_batch(track_ids):\n",
    "    years = []\n",
    "    popularity = []\n",
    "    try:\n",
    "        results = sp.tracks(track_ids)\n",
    "        for track in results['tracks']:\n",
    "            if track:\n",
    "                year = int(track['album']['release_date'][:4]) if 'release_date' in track['album'] else None\n",
    "                years.append(year)\n",
    "                popularity.append(track.get('popularity', None))\n",
    "            else:\n",
    "                years.append(None)\n",
    "                popularity.append(None)\n",
    "    except Exception as e:\n",
    "        print(f\"Erro no batch: {e}\")\n",
    "        years = [None] * len(track_ids)\n",
    "        popularity = [None] * len(track_ids)\n",
    "    return years, popularity\n",
    "\n",
    "for i in tqdm(range(0, len(df_para_processar), BATCH_SIZE)):\n",
    "    batch = df_para_processar.iloc[i:i+BATCH_SIZE]\n",
    "    ids_para_buscar = batch['id'].tolist()\n",
    "    anos, popularidade = get_years_and_popularity_batch(ids_para_buscar)\n",
    "\n",
    "    df_saida.loc[df_saida['id'].isin(ids_para_buscar), 'year'] = anos\n",
    "    df_saida.loc[df_saida['id'].isin(ids_para_buscar), 'popularity'] = popularidade\n",
    "\n",
    "    if i % SAVE_FACTOR == 0:\n",
    "        df_saida.to_csv(ARQUIVO_SAIDA, index=False)\n",
    "\n",
    "df_saida.to_csv(ARQUIVO_SAIDA, index=False)"
   ]
  },
  {
   "cell_type": "markdown",
   "id": "bc6d0821",
   "metadata": {},
   "source": [
    "> São filtradas apenas as colunas necessárias do dataset.\n",
    "\n",
    "> É criada a coluna *decade*, utilizada para simplificar a diferenciação das músicas por década.\n",
    "\n",
    "> As letras das músicas são tratadas para serem mais facilmente processadas.\n",
    "\n",
    "> Linhas com *decade* = 0 são removidas"
   ]
  },
  {
   "cell_type": "code",
   "execution_count": 4,
   "id": "171bb353",
   "metadata": {},
   "outputs": [],
   "source": [
    "import pandas as pd\n",
    "ARQUIVO_SAIDA = \"music_dataset_new.csv\""
   ]
  },
  {
   "cell_type": "code",
   "execution_count": 5,
   "id": "ec547ee7",
   "metadata": {},
   "outputs": [
    {
     "data": {
      "text/html": [
       "<div>\n",
       "<style scoped>\n",
       "    .dataframe tbody tr th:only-of-type {\n",
       "        vertical-align: middle;\n",
       "    }\n",
       "\n",
       "    .dataframe tbody tr th {\n",
       "        vertical-align: top;\n",
       "    }\n",
       "\n",
       "    .dataframe thead th {\n",
       "        text-align: right;\n",
       "    }\n",
       "</style>\n",
       "<table border=\"1\" class=\"dataframe\">\n",
       "  <thead>\n",
       "    <tr style=\"text-align: right;\">\n",
       "      <th></th>\n",
       "      <th>year</th>\n",
       "      <th>lyrics</th>\n",
       "      <th>name</th>\n",
       "      <th>artists</th>\n",
       "      <th>popularity</th>\n",
       "      <th>decade</th>\n",
       "    </tr>\n",
       "  </thead>\n",
       "  <tbody>\n",
       "    <tr>\n",
       "      <th>0</th>\n",
       "      <td>2016.0</td>\n",
       "      <td>he said he came from jamaica,  he owned a coup...</td>\n",
       "      <td>!</td>\n",
       "      <td>['HELLYEAH']</td>\n",
       "      <td>0.0</td>\n",
       "      <td>2010</td>\n",
       "    </tr>\n",
       "    <tr>\n",
       "      <th>1</th>\n",
       "      <td>2019.0</td>\n",
       "      <td>fucked a bitch, now she running with my kids  ...</td>\n",
       "      <td>!!</td>\n",
       "      <td>Yxngxr1</td>\n",
       "      <td>32.0</td>\n",
       "      <td>2010</td>\n",
       "    </tr>\n",
       "    <tr>\n",
       "      <th>2</th>\n",
       "      <td>2019.0</td>\n",
       "      <td>oh, my god, i'm going crazy</td>\n",
       "      <td>!!! - Interlude</td>\n",
       "      <td>['Glowie']</td>\n",
       "      <td>0.0</td>\n",
       "      <td>2010</td>\n",
       "    </tr>\n",
       "    <tr>\n",
       "      <th>3</th>\n",
       "      <td>2000.0</td>\n",
       "      <td>continuamente se extraña la gente si no puede ...</td>\n",
       "      <td>!!De Repente!!</td>\n",
       "      <td>['Rosendo']</td>\n",
       "      <td>7.0</td>\n",
       "      <td>2000</td>\n",
       "    </tr>\n",
       "    <tr>\n",
       "      <th>4</th>\n",
       "      <td>1986.0</td>\n",
       "      <td>continuamente se extraña la gente si no puede ...</td>\n",
       "      <td>!!De Repente!!</td>\n",
       "      <td>['Rosendo']</td>\n",
       "      <td>16.0</td>\n",
       "      <td>1980</td>\n",
       "    </tr>\n",
       "  </tbody>\n",
       "</table>\n",
       "</div>"
      ],
      "text/plain": [
       "     year                                             lyrics             name  \\\n",
       "0  2016.0  he said he came from jamaica,  he owned a coup...                !   \n",
       "1  2019.0  fucked a bitch, now she running with my kids  ...               !!   \n",
       "2  2019.0                      oh, my god, i'm going crazy    !!! - Interlude   \n",
       "3  2000.0  continuamente se extraña la gente si no puede ...   !!De Repente!!   \n",
       "4  1986.0  continuamente se extraña la gente si no puede ...   !!De Repente!!   \n",
       "\n",
       "        artists  popularity  decade  \n",
       "0  ['HELLYEAH']         0.0    2010  \n",
       "1       Yxngxr1        32.0    2010  \n",
       "2    ['Glowie']         0.0    2010  \n",
       "3   ['Rosendo']         7.0    2000  \n",
       "4   ['Rosendo']        16.0    1980  "
      ]
     },
     "execution_count": 5,
     "metadata": {},
     "output_type": "execute_result"
    }
   ],
   "source": [
    "df = pd.read_csv(ARQUIVO_SAIDA)\n",
    "\n",
    "df = df[['year', 'lyrics', 'name', 'artists', 'popularity']]\n",
    "df['year'] = pd.to_numeric(df['year'], errors='coerce')\n",
    "df = df.dropna(subset=['year'])\n",
    "df['decade'] = (df['year'] // 10 * 10).astype(int)\n",
    "df['lyrics'] = df['lyrics'].str.lower()\n",
    "df['lyrics'] = df['lyrics'].str.replace(r'\\n', ' ', regex=True) \n",
    "df['lyrics'] = df['lyrics'].fillna('')\n",
    "df = df[df['decade'] != 0]\n",
    "\n",
    "df.to_csv(\"clean_music_dataset.csv\", index=False)\n",
    "df.head()"
   ]
  },
  {
   "cell_type": "markdown",
   "id": "6c1c290a",
   "metadata": {},
   "source": [
    "## Treinamento do Modelo\n",
    "\n",
    "> Se já possuir o dataset *clean_music_dataset.csv* no diretório pode iniciar a execução por aqui.\n",
    "\n",
    "> É realizado um TfidfVectorizer e uma regressão logística para gerar e testar um modelo de predição de décadas através da letra."
   ]
  },
  {
   "cell_type": "code",
   "execution_count": 6,
   "id": "3195e784",
   "metadata": {},
   "outputs": [
    {
     "data": {
      "text/html": [
       "<div>\n",
       "<style scoped>\n",
       "    .dataframe tbody tr th:only-of-type {\n",
       "        vertical-align: middle;\n",
       "    }\n",
       "\n",
       "    .dataframe tbody tr th {\n",
       "        vertical-align: top;\n",
       "    }\n",
       "\n",
       "    .dataframe thead th {\n",
       "        text-align: right;\n",
       "    }\n",
       "</style>\n",
       "<table border=\"1\" class=\"dataframe\">\n",
       "  <thead>\n",
       "    <tr style=\"text-align: right;\">\n",
       "      <th></th>\n",
       "      <th>year</th>\n",
       "      <th>lyrics</th>\n",
       "      <th>name</th>\n",
       "      <th>artists</th>\n",
       "      <th>popularity</th>\n",
       "      <th>decade</th>\n",
       "    </tr>\n",
       "  </thead>\n",
       "  <tbody>\n",
       "    <tr>\n",
       "      <th>0</th>\n",
       "      <td>2016.0</td>\n",
       "      <td>he said he came from jamaica,  he owned a coup...</td>\n",
       "      <td>!</td>\n",
       "      <td>['HELLYEAH']</td>\n",
       "      <td>0.0</td>\n",
       "      <td>2010</td>\n",
       "    </tr>\n",
       "    <tr>\n",
       "      <th>1</th>\n",
       "      <td>2019.0</td>\n",
       "      <td>fucked a bitch, now she running with my kids  ...</td>\n",
       "      <td>!!</td>\n",
       "      <td>Yxngxr1</td>\n",
       "      <td>32.0</td>\n",
       "      <td>2010</td>\n",
       "    </tr>\n",
       "    <tr>\n",
       "      <th>2</th>\n",
       "      <td>2019.0</td>\n",
       "      <td>oh, my god, i'm going crazy</td>\n",
       "      <td>!!! - Interlude</td>\n",
       "      <td>['Glowie']</td>\n",
       "      <td>0.0</td>\n",
       "      <td>2010</td>\n",
       "    </tr>\n",
       "    <tr>\n",
       "      <th>3</th>\n",
       "      <td>2000.0</td>\n",
       "      <td>continuamente se extraña la gente si no puede ...</td>\n",
       "      <td>!!De Repente!!</td>\n",
       "      <td>['Rosendo']</td>\n",
       "      <td>7.0</td>\n",
       "      <td>2000</td>\n",
       "    </tr>\n",
       "    <tr>\n",
       "      <th>4</th>\n",
       "      <td>1986.0</td>\n",
       "      <td>continuamente se extraña la gente si no puede ...</td>\n",
       "      <td>!!De Repente!!</td>\n",
       "      <td>['Rosendo']</td>\n",
       "      <td>16.0</td>\n",
       "      <td>1980</td>\n",
       "    </tr>\n",
       "  </tbody>\n",
       "</table>\n",
       "</div>"
      ],
      "text/plain": [
       "     year                                             lyrics             name  \\\n",
       "0  2016.0  he said he came from jamaica,  he owned a coup...                !   \n",
       "1  2019.0  fucked a bitch, now she running with my kids  ...               !!   \n",
       "2  2019.0                      oh, my god, i'm going crazy    !!! - Interlude   \n",
       "3  2000.0  continuamente se extraña la gente si no puede ...   !!De Repente!!   \n",
       "4  1986.0  continuamente se extraña la gente si no puede ...   !!De Repente!!   \n",
       "\n",
       "        artists  popularity  decade  \n",
       "0  ['HELLYEAH']         0.0    2010  \n",
       "1       Yxngxr1        32.0    2010  \n",
       "2    ['Glowie']         0.0    2010  \n",
       "3   ['Rosendo']         7.0    2000  \n",
       "4   ['Rosendo']        16.0    1980  "
      ]
     },
     "execution_count": 6,
     "metadata": {},
     "output_type": "execute_result"
    }
   ],
   "source": [
    "import pandas as pd\n",
    "\n",
    "df = pd.read_csv(\"clean_music_dataset.csv\")\n",
    "df.head()"
   ]
  },
  {
   "cell_type": "code",
   "execution_count": 14,
   "id": "b3426218",
   "metadata": {},
   "outputs": [
    {
     "name": "stdout",
     "output_type": "stream",
     "text": [
      "9\n",
      "0\n"
     ]
    }
   ],
   "source": [
    "print(df['lyrics'].isnull().sum())\n",
    "df = df[df['lyrics'].notnull()]\n",
    "print(df['lyrics'].isnull().sum())"
   ]
  },
  {
   "cell_type": "code",
   "execution_count": 17,
   "id": "d2356785",
   "metadata": {},
   "outputs": [],
   "source": [
    "from sklearn.model_selection import train_test_split\n",
    "from sklearn.feature_extraction.text import TfidfVectorizer\n",
    "\n",
    "vectorizer = TfidfVectorizer(max_features=10000, stop_words='english')\n",
    "X = vectorizer.fit_transform(df['lyrics'])\n",
    "y = df['decade']\n",
    "\n",
    "X_train, X_test, y_train, y_test = train_test_split(X, y, test_size=0.2, random_state=42)\n"
   ]
  },
  {
   "cell_type": "code",
   "execution_count": 18,
   "id": "e3052132",
   "metadata": {},
   "outputs": [
    {
     "name": "stdout",
     "output_type": "stream",
     "text": [
      "              precision    recall  f1-score   support\n",
      "\n",
      "        1900       0.00      0.00      0.00        20\n",
      "        1920       0.00      0.00      0.00        31\n",
      "        1930       0.00      0.00      0.00       134\n",
      "        1940       1.00      0.01      0.02       108\n",
      "        1950       0.21      0.02      0.04       668\n",
      "        1960       0.21      0.02      0.04      1745\n",
      "        1970       0.15      0.01      0.02      2710\n",
      "        1980       0.21      0.00      0.01      3413\n",
      "        1990       0.35      0.02      0.05      8135\n",
      "        2000       0.40      0.35      0.38     32212\n",
      "        2010       0.49      0.79      0.60     49968\n",
      "        2020       0.54      0.12      0.20     15731\n",
      "\n",
      "    accuracy                           0.46    114875\n",
      "   macro avg       0.30      0.11      0.11    114875\n",
      "weighted avg       0.44      0.46      0.40    114875\n",
      "\n"
     ]
    },
    {
     "name": "stderr",
     "output_type": "stream",
     "text": [
      "c:\\Users\\cailu\\Documents\\Work\\NLP\\nlp_course\\venv\\Lib\\site-packages\\sklearn\\metrics\\_classification.py:1565: UndefinedMetricWarning: Precision is ill-defined and being set to 0.0 in labels with no predicted samples. Use `zero_division` parameter to control this behavior.\n",
      "  _warn_prf(average, modifier, f\"{metric.capitalize()} is\", len(result))\n",
      "c:\\Users\\cailu\\Documents\\Work\\NLP\\nlp_course\\venv\\Lib\\site-packages\\sklearn\\metrics\\_classification.py:1565: UndefinedMetricWarning: Precision is ill-defined and being set to 0.0 in labels with no predicted samples. Use `zero_division` parameter to control this behavior.\n",
      "  _warn_prf(average, modifier, f\"{metric.capitalize()} is\", len(result))\n",
      "c:\\Users\\cailu\\Documents\\Work\\NLP\\nlp_course\\venv\\Lib\\site-packages\\sklearn\\metrics\\_classification.py:1565: UndefinedMetricWarning: Precision is ill-defined and being set to 0.0 in labels with no predicted samples. Use `zero_division` parameter to control this behavior.\n",
      "  _warn_prf(average, modifier, f\"{metric.capitalize()} is\", len(result))\n"
     ]
    }
   ],
   "source": [
    "from sklearn.linear_model import LogisticRegression\n",
    "from sklearn.metrics import classification_report\n",
    "\n",
    "clf = LogisticRegression(max_iter=1000)\n",
    "clf.fit(X_train, y_train)\n",
    "y_pred = clf.predict(X_test)\n",
    "print(classification_report(y_test, y_pred))"
   ]
  },
  {
   "cell_type": "markdown",
   "id": "d6b4572b",
   "metadata": {},
   "source": [
    "> Os resultados de predição do modelo não são o foco do trabalho, portanto não precisaremos de maiores avaliações a seu respeito.\n",
    "\n",
    "> Nesse trecho são extraídos os pesos das palavras que mais afetam o modelo.\n",
    "\n",
    "> Para tal o modelo é retreinado utilizando o conjunto completo de dados."
   ]
  },
  {
   "cell_type": "code",
   "execution_count": 19,
   "id": "c07e649a",
   "metadata": {},
   "outputs": [
    {
     "name": "stdout",
     "output_type": "stream",
     "text": [
      "1900s: hail, screw, brings, charge, page, hurts, chew, aujourd, bubble, angle\n",
      "1910s: mhmm, நம, broads, känner, können, cierra, completo, veas, conoces, necesitas\n",
      "1920s: telling, haven, evening, louis, looked, poco, extraña, lost, piso, thinkin\n",
      "1930s: list, mother, naman, isn, humilde, viejos, near, responde, perfect, quero\n",
      "1940s: sweetheart, aime, loves, samba, shines, songs, whale, singin, querer, work\n",
      "1950s: pie, dollars, méxico, pretending, tells, mist, whisper, bee, squeeze, passed\n",
      "1960s: fell, sea, rien, rights, sabroso, happiness, michael, bird, llorar, rainbow\n",
      "1970s: amour, delay, donna, dawn, hesitate, olvido, sombra, samba, jerk, followed\n",
      "1980s: record, religion, girls, race, poet, watching, cafe, dangerous, passing, mend\n",
      "1990s: circle, ای, victoria, players, ad, beer, ka, forever, cosa, mortal\n",
      "2000s: niggas, pain, dwell, blink, pine, buried, impressed, evitar, chorei, frozen\n",
      "2010s: damos, lemme, tranquila, goddamn, escribo, conmigo, feiern, underwater, tome, medicine\n",
      "2020s: culo, heal, prendo, goodbyes, só, sto, sonreír, bota, loud, process\n"
     ]
    }
   ],
   "source": [
    "import numpy as np\n",
    "\n",
    "clf = LogisticRegression(max_iter=1000)\n",
    "clf.fit(X, y)\n",
    "\n",
    "feature_names = np.array(vectorizer.get_feature_names_out())\n",
    "coefs = clf.coef_\n",
    "\n",
    "decades = clf.classes_\n",
    "top_words = {}\n",
    "\n",
    "for i, decade in enumerate(decades):\n",
    "    top_indices = np.argsort(coefs[i])[-500:]\n",
    "    top_words[decade] = feature_names[top_indices]\n",
    "\n",
    "decade_word_weights = {\n",
    "    decade: dict(zip(feature_names, coefs[i]))\n",
    "    for i, decade in enumerate(decades)\n",
    "}\n",
    "\n",
    "for decade, words in top_words.items():\n",
    "    print(f\"{decade}s: {', '.join(words[:10])}\")\n"
   ]
  },
  {
   "cell_type": "markdown",
   "id": "48ca3ff9",
   "metadata": {},
   "source": [
    "## Pesquisa de Sentimento com LLM\n",
    "\n",
    "> Nesse trecho do trabalho é realizada uma pergunta para a LLM Gemini, pedindo-a para classificar o sentimento transmitido pelas palavras mais comuns de cada década.\n",
    "\n",
    "> Para tal são utilizadas as 100 palavras mais comuns de cada década."
   ]
  },
  {
   "cell_type": "code",
   "execution_count": 20,
   "id": "4ca71b82",
   "metadata": {},
   "outputs": [],
   "source": [
    "import google.generativeai as genai\n",
    "\n",
    "genai.configure(api_key=GEMINI_API_KEY)\n",
    "model = genai.GenerativeModel(model_name=\"gemini-1.5-flash\")"
   ]
  },
  {
   "cell_type": "code",
   "execution_count": 21,
   "id": "14edc644",
   "metadata": {},
   "outputs": [],
   "source": [
    "def analisar_sentimento_decada(palavras):\n",
    "    prompt = f\"\"\"\n",
    "    Você é um analista de sentimentos em letras de músicas.\n",
    "\n",
    "    Dada a seguinte lista de palavras mais frequentes e relevantes para músicas de uma decada específica, identifique qual sentimento ou clima emocional essas palavras em conjunto refletem sobre o espírito daquela época.\n",
    "\n",
    "    Palavras: {', '.join(palavras)}\n",
    "\n",
    "    Analise o sentimento predominante transmitido por essas palavras no contexto de letras musicais da época. \n",
    "    Responda com apenas 3 palavras que melhor descrevem o sentimento e contexto sociocultural que pode ser atrelado a determinada década.\n",
    "    \"\"\"\n",
    "    \n",
    "    response = model.generate_content(prompt)\n",
    "    return response.text.strip()\n"
   ]
  },
  {
   "cell_type": "code",
   "execution_count": 22,
   "id": "b413edb1",
   "metadata": {},
   "outputs": [],
   "source": [
    "analises_sentimento = {}\n",
    "\n",
    "for decada, palavras in top_words.items():\n",
    "    sentimento = analisar_sentimento_decada(palavras)\n",
    "    analises_sentimento[decada] = sentimento"
   ]
  },
  {
   "cell_type": "markdown",
   "id": "bd5c6986",
   "metadata": {},
   "source": [
    "> Nota-se um sentimento visto como nostalgia até os anos 70, possívelmente pela interpretação da LLM de palavras que remetem a época.\n",
    "\n",
    "> Os temas identificados pela LLM aparentam estar de acordo, em sua maioria, com a percepção geral das épocas, indicando que as palavras filtradas de fato representam o sentimento daquele recorte histórico.\n",
    "\n",
    "> Notável também que termos novos como ansiedade, autodestruição e excessos aparecem pela primeira vez nos anos 2010 e 2020."
   ]
  },
  {
   "cell_type": "code",
   "execution_count": 23,
   "id": "647e65f7",
   "metadata": {},
   "outputs": [
    {
     "name": "stdout",
     "output_type": "stream",
     "text": [
      "\n",
      "Análise de Sentimento por Década:\n",
      "1900s: Resistência,  luta,  sobrevivência.\n",
      "1910s: Festa, sensualidade, globalização.\n",
      "1920s: Saudade, nostalgia, melancolia.\n",
      "1930s: Saudade, melancolia, nostalgia.\n",
      "1940s: Romance, Nostalgia, Diversidade.\n",
      "1950s: Nostalgia,  Romance,  Turbulência.\n",
      "1960s: Nostalgia, Liberdade,  Transformação\n",
      "1970s: Liberdade,  Rebelião, Nostalgia\n",
      "1980s: Rebeldia,  ansiedade,  liberdade.\n",
      "1990s: Rebelião,  agressividade,  marginalidade.\n",
      "2000s: Gangsta Rap  marginalizado.\n",
      "2010s: Hedonismo,  Excessos,  Autodestruição\n",
      "2020s: Autodestruição,  Excessos,  Ansiedade.\n"
     ]
    }
   ],
   "source": [
    "print(\"\\nAnálise de Sentimento por Década:\")\n",
    "for decada, sentimento in analises_sentimento.items():\n",
    "    print(f\"{decada}s: {sentimento}\")"
   ]
  },
  {
   "cell_type": "markdown",
   "id": "46d152b8",
   "metadata": {},
   "source": [
    "## Geração do Dataset de Afinidade dos Artistas\n",
    "\n",
    "> Nesse trecho são realizados novos tratamentos para gerar o arquivo *artists_afinity.csv*.\n",
    "\n",
    "> Caso já possua o mesmo em seu diretório esse trecho não é necessário\n",
    "\n",
    "> Primeiramente é necessário separar artistas que dividem uma mesma faixa, agrupando as músicas com o respectivo artista."
   ]
  },
  {
   "cell_type": "code",
   "execution_count": 24,
   "id": "8610b626",
   "metadata": {},
   "outputs": [
    {
     "name": "stderr",
     "output_type": "stream",
     "text": [
      "<unknown>:1: SyntaxWarning: invalid decimal literal\n",
      "<unknown>:1: SyntaxWarning: invalid decimal literal\n"
     ]
    }
   ],
   "source": [
    "from sklearn.feature_extraction.text import CountVectorizer\n",
    "import ast\n",
    "\n",
    "def parse_artists(entry):\n",
    "    if isinstance(entry, list):\n",
    "        return entry\n",
    "    if isinstance(entry, str):\n",
    "        try:\n",
    "            val = ast.literal_eval(entry)\n",
    "            if isinstance(val, list):\n",
    "                return val\n",
    "            else:\n",
    "                return [val]\n",
    "        except:\n",
    "            return [entry]\n",
    "    return [str(entry)]\n",
    "\n",
    "df['artists'] = df['artists'].apply(parse_artists)\n",
    "df_exploded = df.explode('artists').rename(columns={'artists': 'artist'})\n",
    "\n",
    "artista_letras = df_exploded.groupby(\"artist\")[\"lyrics\"].apply(lambda x: \" \".join(str(t) for t in x))\n"
   ]
  },
  {
   "cell_type": "markdown",
   "id": "281aec86",
   "metadata": {},
   "source": [
    "> Além de extrair a frequência com que cada palavra aparece para o artista, é realizado o cálculo com o peso extraído do modelo de regressão logística.\n",
    "\n",
    "> Tal processo permite gerar um score de afinidade com época para o artista.\n",
    "\n",
    "> Em sequência esses dados são salvos em *artists_afinity.csv* para evitar repetições na execução do código."
   ]
  },
  {
   "cell_type": "code",
   "execution_count": 25,
   "id": "d701fb0c",
   "metadata": {},
   "outputs": [],
   "source": [
    "artista_streams_max = df_exploded.groupby(\"artist\")[\"popularity\"].max()\n",
    "\n",
    "def get_frequencias(text):\n",
    "    if not isinstance(text, str) or len(text.strip()) == 0:\n",
    "        return {}\n",
    "    vectorizer = CountVectorizer(stop_words='english')\n",
    "    try:\n",
    "        X = vectorizer.fit_transform([text])\n",
    "        total = X.sum()\n",
    "        return dict(zip(vectorizer.get_feature_names_out(), X.toarray()[0] / total))\n",
    "    except ValueError:\n",
    "        return {}\n",
    "\n",
    "artista_frequencias = artista_letras.apply(get_frequencias)\n",
    "\n",
    "def calcular_afinidade_combinada(freq_artista, pesos_decada):\n",
    "    score = 0\n",
    "    for palavra, freq in freq_artista.items():\n",
    "        peso = pesos_decada.get(palavra, 0)\n",
    "        score += freq * peso\n",
    "    return score\n",
    "\n",
    "afinidade_resultados = []\n",
    "\n",
    "for artista, freq in artista_frequencias.items():\n",
    "    artista_musicas = df_exploded[df_exploded[\"artist\"] == artista]\n",
    "    decadas = artista_musicas[\"decade\"].unique()\n",
    "    \n",
    "    popularidade_label = artista_streams_max.get(artista, 0)\n",
    "\n",
    "    for dec in decadas:\n",
    "        if dec in decade_word_weights:\n",
    "            score = calcular_afinidade_combinada(freq, decade_word_weights[dec])\n",
    "            afinidade_resultados.append({\n",
    "                \"artista\": artista,\n",
    "                \"decada\": dec,\n",
    "                \"afinidade_com_epoca\": score,\n",
    "                \"popularidade\": popularidade_label\n",
    "            })\n",
    "\n",
    "df_afinidade = pd.DataFrame(afinidade_resultados)\n",
    "df_afinidade.to_csv(\"artists_afinity.csv\", index=False)\n"
   ]
  },
  {
   "cell_type": "markdown",
   "id": "65b5707e",
   "metadata": {},
   "source": [
    "## Análise dos Resultados de Afinidade dos Artistas\n",
    "\n",
    "> Enfim, através do último dataset, é possível identificar questões interessantes e explorar a relação dos artistas com suas décadas."
   ]
  },
  {
   "cell_type": "code",
   "execution_count": 26,
   "id": "ee7bee9b",
   "metadata": {},
   "outputs": [
    {
     "data": {
      "text/html": [
       "<div>\n",
       "<style scoped>\n",
       "    .dataframe tbody tr th:only-of-type {\n",
       "        vertical-align: middle;\n",
       "    }\n",
       "\n",
       "    .dataframe tbody tr th {\n",
       "        vertical-align: top;\n",
       "    }\n",
       "\n",
       "    .dataframe thead th {\n",
       "        text-align: right;\n",
       "    }\n",
       "</style>\n",
       "<table border=\"1\" class=\"dataframe\">\n",
       "  <thead>\n",
       "    <tr style=\"text-align: right;\">\n",
       "      <th></th>\n",
       "      <th>artista</th>\n",
       "      <th>decada</th>\n",
       "      <th>afinidade_com_epoca</th>\n",
       "      <th>popularidade</th>\n",
       "    </tr>\n",
       "  </thead>\n",
       "  <tbody>\n",
       "    <tr>\n",
       "      <th>61349</th>\n",
       "      <td>Leah Martin</td>\n",
       "      <td>2020</td>\n",
       "      <td>3.710755</td>\n",
       "      <td>0.0</td>\n",
       "    </tr>\n",
       "    <tr>\n",
       "      <th>52014</th>\n",
       "      <td>Joehdah</td>\n",
       "      <td>2020</td>\n",
       "      <td>3.113088</td>\n",
       "      <td>0.0</td>\n",
       "    </tr>\n",
       "    <tr>\n",
       "      <th>43706</th>\n",
       "      <td>Hatom</td>\n",
       "      <td>2020</td>\n",
       "      <td>2.655620</td>\n",
       "      <td>8.0</td>\n",
       "    </tr>\n",
       "    <tr>\n",
       "      <th>77026</th>\n",
       "      <td>Neitan</td>\n",
       "      <td>2020</td>\n",
       "      <td>2.646657</td>\n",
       "      <td>46.0</td>\n",
       "    </tr>\n",
       "    <tr>\n",
       "      <th>23729</th>\n",
       "      <td>D-Frek</td>\n",
       "      <td>2020</td>\n",
       "      <td>2.400831</td>\n",
       "      <td>0.0</td>\n",
       "    </tr>\n",
       "  </tbody>\n",
       "</table>\n",
       "</div>"
      ],
      "text/plain": [
       "           artista  decada  afinidade_com_epoca  popularidade\n",
       "61349  Leah Martin    2020             3.710755           0.0\n",
       "52014      Joehdah    2020             3.113088           0.0\n",
       "43706        Hatom    2020             2.655620           8.0\n",
       "77026       Neitan    2020             2.646657          46.0\n",
       "23729       D-Frek    2020             2.400831           0.0"
      ]
     },
     "execution_count": 26,
     "metadata": {},
     "output_type": "execute_result"
    }
   ],
   "source": [
    "df_afinidade = pd.read_csv(\"artists_afinity.csv\")\n",
    "df_afinidade = df_afinidade.sort_values(by=\"afinidade_com_epoca\", ascending=False)\n",
    "df_afinidade.head()"
   ]
  },
  {
   "cell_type": "code",
   "execution_count": 27,
   "id": "6c4cb723",
   "metadata": {},
   "outputs": [],
   "source": [
    "\n",
    "def mostrar_afinidade_por_decada(df_afinidade, decada, popularity_treshold ,top_n=10):\n",
    "    df_filtrado = df_afinidade[df_afinidade['decada'] == decada]\n",
    "    df_filtrado = df_filtrado[df_filtrado['popularidade'] >= popularity_treshold]\n",
    "\n",
    "    if df_filtrado.empty:\n",
    "        print(f\"Nenhum dado encontrado para a década {decada}.\")\n",
    "        return\n",
    "\n",
    "    print(f\"\\nTop {top_n} artistas mais alinhados com os anos {decada}:\")\n",
    "    top = df_filtrado.sort_values(by='afinidade_com_epoca', ascending=False).head(top_n)\n",
    "    for i, row in top.iterrows():\n",
    "        print(f\"{row['artista']}: {row['afinidade_com_epoca']:.2f}\")\n",
    "\n",
    "    print(f\"\\nTop {top_n} artistas menos alinhados com os anos {decada}:\")\n",
    "    bottom = df_filtrado.sort_values(by='afinidade_com_epoca', ascending=True).head(top_n)\n",
    "    for i, row in bottom.iterrows():\n",
    "        print(f\"{row['artista']}: {row['afinidade_com_epoca']:.2f}\")\n"
   ]
  },
  {
   "cell_type": "markdown",
   "id": "e2b97918",
   "metadata": {},
   "source": [
    "> A seguinte função permite a visualização dos 10 artistas mais condizentes com sua época e dos 10 artistas menos condizentes com sua época, por um treshold de popularidade, que permite a visualização apenas dos artistas mais famosos."
   ]
  },
  {
   "cell_type": "code",
   "execution_count": 32,
   "id": "8371c506",
   "metadata": {},
   "outputs": [
    {
     "name": "stdout",
     "output_type": "stream",
     "text": [
      "\n",
      "Top 10 artistas mais alinhados com os anos 2020:\n",
      "XXXTENTACION: 0.65\n",
      "Juice WRLD: 0.57\n",
      "Bad Bunny;Chencho Corleone: 0.53\n",
      "Travis Scott: 0.52\n",
      "PARTYNEXTDOOR: 0.48\n",
      "Post Malone: 0.48\n",
      "Maroon 5: 0.47\n",
      "Future: 0.46\n",
      "Bryson Tiller: 0.45\n",
      "Justin Bieber: 0.44\n",
      "\n",
      "Top 10 artistas menos alinhados com os anos 2020:\n",
      "TOTO: -0.11\n",
      "Marvin Gaye: -0.09\n",
      "Bob Marley & The Wailers: -0.08\n",
      "Creedence Clearwater Revival: -0.06\n",
      "Fleetwood Mac: -0.06\n",
      "Eagles: -0.04\n",
      "ABBA: -0.03\n",
      "AC/DC: -0.03\n",
      "Mazzy Star: -0.02\n",
      "The Beatles: -0.01\n"
     ]
    }
   ],
   "source": [
    "decada = 2020\n",
    "popularidade = 85\n",
    "\n",
    "mostrar_afinidade_por_decada(df_afinidade, decada, popularidade)"
   ]
  },
  {
   "cell_type": "code",
   "execution_count": 33,
   "id": "16e8c68e",
   "metadata": {},
   "outputs": [],
   "source": [
    "import matplotlib.pyplot as plt\n",
    "\n",
    "def plot_afinidade_por_decada(df_afinidade, treshold):\n",
    "    decadas = df_afinidade['decada'].unique()\n",
    "    afinidade_diff = []\n",
    "    for decada in sorted(decadas):\n",
    "        df_decada = df_afinidade[df_afinidade['decada'] == decada]\n",
    "        max_popularity = df_decada['popularidade'].max()\n",
    "        df_decada = df_decada[df_decada['popularidade'] >= max_popularity * treshold]\n",
    "        if not df_decada.empty:\n",
    "            afinidade_diff.append(df_decada['afinidade_com_epoca'].mean())\n",
    "        else:\n",
    "            afinidade_diff.append(0)\n",
    "\n",
    "    plt.figure(figsize=(12, 6))\n",
    "    plt.bar(sorted(decadas), afinidade_diff, color='skyblue')\n",
    "    plt.xlabel('Década')\n",
    "    plt.ylabel('Diferença de Afinidade')\n",
    "    plt.title('Diferença de Afinidade com a Década por Popularidade')\n",
    "    plt.xticks(sorted(decadas), rotation=45)\n",
    "    plt.grid(axis='y')\n",
    "    plt.tight_layout()\n"
   ]
  },
  {
   "cell_type": "markdown",
   "id": "d7729122",
   "metadata": {},
   "source": [
    "> Os gráficos plotado permite a visualização da média de afinidade que os artistas possuíam a cada época, filtrando primeiramente pelos artistas mais famosos de cada época e em seguida pela maioria dos artistas de cada época.\n",
    "\n",
    "> Através dos gráficos, é interessante notar como atualmente os artistas mais populares estão mais alinhados do que nunca com sua respectiva década, enquanto ao analisar os artistas em geral percebesse que houveram épocas com maior alinhamento que na década atual."
   ]
  },
  {
   "cell_type": "code",
   "execution_count": 34,
   "id": "b60bb2a0",
   "metadata": {},
   "outputs": [
    {
     "data": {
      "image/png": "[encoded data removed]",
      "text/plain": [
       "<Figure size 1200x600 with 1 Axes>"
      ]
     },
     "metadata": {},
     "output_type": "display_data"
    }
   ],
   "source": [
    "plot_afinidade_por_decada(df_afinidade, 0.9)"
   ]
  },
  {
   "cell_type": "code",
   "execution_count": 35,
   "id": "8ec576aa",
   "metadata": {},
   "outputs": [
    {
     "data": {
      "image/png": "[encoded data removed]",
      "text/plain": [
       "<Figure size 1200x600 with 1 Axes>"
      ]
     },
     "metadata": {},
     "output_type": "display_data"
    }
   ],
   "source": [
    "plot_afinidade_por_decada(df_afinidade, 0)"
   ]
  },
  {
   "cell_type": "markdown",
   "id": "8ba29659",
   "metadata": {},
   "source": [
    "# A música de nosso século é apenas produto industrial?\n",
    "\n",
    "Essa indagação é uma questão recorrente entre os críticos da música moderna e uma pergunta difícil de ser respondida com clareza, tratando-se de um tema tão ambíguo. No entanto, com os dados extraídos, alguns pontos dessa discussão podem ser elucidados.\n",
    "\n",
    "Entendendo que a definição da música como produto industrial pode estar relacionada à sua conformação a um padrão histórico-cultural mercadológico, é possível correlacionar a veracidade do questionamento à afinidade das faixas desse contexto entre si.\n",
    "\n",
    "Vale ressaltar que o modelo criado é capaz apenas de identificar padrões líricos nas músicas, respondendo, portanto, se as músicas modernas seguem com maior frequência um mesmo padrão de conteúdo lírico.\n",
    "\n",
    "A partir dos resultados apresentados nos gráficos, torna-se notável que estamos, de fato, na década com maior afinidade lírica entre artistas populares já observada, principalmente considerando os artistas menos conhecidos (desconsideram-se os anos 1900 por baixa amostragem).\n",
    "\n",
    "Tal fator é um indicativo de que a música atualmente está mais presa do que nunca a padrões culturais de sua época. Todavia, vale ressaltar que as décadas de 2000 e 2010 apresentaram baixa média de afinidade em comparação, indicando que não se trata de uma questão necessariamente secular.\n",
    "\n",
    "Embora as críticas ao período musical da atualidade não costumem se limitar apenas aos anos 2000, tenhamos então como novo objeto de análise apenas a música respectiva aos anos 2020, na qual, dentre os artistas populares, observamos uma taxa de afinidade semelhante à dos anos 70, período que passa longe de críticas envolvendo falta de criatividade e mercantilização da música.\n",
    "\n",
    "Considerando essas informações, é válido afirmar que o questionamento se torna inconclusivo perante as evidências encontradas. Isso porque a problemática pode, no máximo, ser tratada como uma particularidade da década de 2020, visto que as décadas de 2000 e 2010 apresentaram baixa afinidade. Além disso, a alta taxa de afinidade nos anos 70 demonstra que não se pode fazer tal presunção com base nos dados obtidos, já que esse mesmo questionamento não é levantado para esse período histórico.\n",
    "\n",
    "Pode-se, por outro lado, analisar os dados obtidos nesse estudo criticamente sob outras perspectivas, como ao observar os movimentos graduais que ocorrem nos anos 50, 60 e 70 da mesma forma que nos anos 2000, 2010 e 2020 para afinidade entre artistas populares. Tais movimentos podem ser interpretados como possíveis surgimentos de novas tendências mundiais — rock e pop/rap, respectivamente — ganhando espaço e contestando os artistas vigentes em um primeiro momento, para enfim mudar a perspectiva e se tornar o novo padrão."
   ]
  }
 ],
 "metadata": {
  "kernelspec": {
   "display_name": "venv",
   "language": "python",
   "name": "python3"
  },
  "language_info": {
   "codemirror_mode": {
    "name": "ipython",
    "version": 3
   },
   "file_extension": ".py",
   "mimetype": "text/x-python",
   "name": "python",
   "nbconvert_exporter": "python",
   "pygments_lexer": "ipython3",
   "version": "3.12.10"
  }
 },
 "nbformat": 4,
 "nbformat_minor": 5
}
