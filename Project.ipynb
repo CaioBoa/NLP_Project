{
 "cells": [
  {
   "cell_type": "markdown",
   "id": "ade045b6",
   "metadata": {},
   "source": [
    "# Afinidade de Artistas-Decada com Machine Learning e NLP\n",
    "\n",
    "> Deep Learning Researcher\n",
    "\n",
    "> Artigo de Base - https://www.sciencedirect.com/science/article/pii/S2543925125000130\n",
    "\n",
    "> Dataset utilizado - https://www.kaggle.com/datasets/bwandowando/spotify-songs-with-attributes-and-lyrics\n",
    "\n",
    "O seguinte projeto tem como objetivo realizar uma análise de afinidade do produto musical de determinados artistas com suas respectivas épocas, dissecando a história da música por décadas para analisar quais artistas mais estavam alinhados com o padrão de sua época e quais momentos da história possuíriam a maior tendência de afinidade por artista."
   ]
  },
  {
   "cell_type": "markdown",
   "id": "7cb3e1dd",
   "metadata": {},
   "source": [
    "### Trabalho Relacionado\n",
    "\n",
    "O artigo de base utilizado para correlacionar as métricas do trabalho foi:\n",
    "\n",
    "*Aspect-based sentiment evolution and its correlation with review rounds in multi-round peer reviews: A deep learning approach*\n",
    "\n",
    "Esse artigo possui a seguinte hipótese: *Últimos rounds de reviews para artigos tendem a ter avaliações mais positivas*\n",
    "\n",
    "Para tal foram comparados diversos modelos de NLP, em via de escolher o que melhor realizaria a análise de sentimento requerida para o projeto.\n",
    "\n",
    "Através do melhor modelo escolhido, foi realizado o estudo e retiradas as devidas conclusões dos dados encontrados."
   ]
  },
  {
   "cell_type": "markdown",
   "id": "62c18fc9",
   "metadata": {},
   "source": [
    "### Objetivos e Métricas\n",
    "\n",
    "Utilizando como base o trabalho de referência citado, o seguinte trabalho terá a seguinte hipótese como ponto de partida:\n",
    "\n",
    "*Artistas contemporâneos possuem maior tendência a possuírem líricas semelhantes que artistas antigos*\n",
    "\n",
    "Através dessa hipótese serão testados alguns modelos de NLP, e a partir deles serão utilizados como métricas de decisão accuracy e macro-f1.\n",
    "\n",
    ">Embora no artigo utilizem outras métricas como macro-p e macro-r, as principais métricas para decisão foram as citadas acima.\n",
    "\n",
    "A partir do modelo gerado, serão extraídos resultados que auxiliem a compreender a questão e chegar a uma conclusão para a hipótese."
   ]
  },
  {
   "cell_type": "markdown",
   "id": "7b433aa2",
   "metadata": {},
   "source": [
    "## Tratamento do Dataset Original\n",
    "\n",
    "O dataset escolhido contempla parte consíderavel das músicas do spotify, com uma referência para o id da música no spotify.\n",
    "\n",
    "Nessa seção serão extraídos, através do id do spotify e a API própria da empresa o ano e a popularidade de cada faixa.\n",
    "\n",
    "Tais dados serão salvos em um novo dataset **music_dataset_new** e eventualmente tratados para o **clean_music_dataset**."
   ]
  },
  {
   "cell_type": "markdown",
   "id": "60eb5972",
   "metadata": {},
   "source": [
    ">Inicialização das Chaves para API\n",
    "- Gemini (opcional)\n",
    "- Spotify (necessárias para construção do dataset)"
   ]
  },
  {
   "cell_type": "code",
   "execution_count": 24,
   "id": "12851cc7",
   "metadata": {},
   "outputs": [],
   "source": [
    "import os\n",
    "from dotenv import load_dotenv\n",
    "load_dotenv()\n",
    "GEMINI_API_KEY = os.getenv('GEMINI_API_KEY')\n",
    "SPOTIFY_SECRET = os.getenv('SPOTIFY_SECRET')\n",
    "SPOTIFY_CLIENT_ID = os.getenv('SPOTIFY_CLIENT_ID')"
   ]
  },
  {
   "cell_type": "markdown",
   "id": "592c40a8",
   "metadata": {},
   "source": [
    ">Executar caso ainda não tenha o dataset baixado via Kagglehub"
   ]
  },
  {
   "cell_type": "code",
   "execution_count": 2,
   "id": "185539b1",
   "metadata": {},
   "outputs": [
    {
     "name": "stdout",
     "output_type": "stream",
     "text": [
      "Warning: Looks like you're using an outdated `kagglehub` version (installed: 0.3.9), please consider upgrading to the latest version (0.3.12).\n"
     ]
    }
   ],
   "source": [
    "import kagglehub\n",
    "\n",
    "path = kagglehub.dataset_download(\"bwandowando/spotify-songs-with-attributes-and-lyrics\")"
   ]
  },
  {
   "cell_type": "markdown",
   "id": "1f226d05",
   "metadata": {},
   "source": [
    ">Executar caso o dataset **music_dataset_new** não esteja completo\n",
    "\n",
    "A API do spotify comporta 5000 requisições diárias em batchs de 50 músicas, contemplando 250000 músicas diariamente.\n",
    "\n",
    "Como o dataset possui mais de 900000 músicas, é necessário realizar a execução do trecho de código por alguns dias para preencher o dataset.\n",
    "\n",
    "O trecho de código é feito para poder ser executado diversas vezes, de modo que os novos dados são salvados automaticamente no **music_dataset_new** e apenas os dados ainda não obtidos são adicionados ao dataset.\n",
    "\n",
    "Caso deseje fazer uma execução de teste, recomendo que altere a varíavel *LIMIT* que limitará o número de músicas tratadas e extraídas.\n",
    "\n",
    "Por erros desconhecidos em minha chave API, não foi possível realizar a conversão de todas as faixas (tempo de espera ficou travado em 24 horas por 1 semana), portanto o projeto foi realizado com um dataset de cerca de 600000 faixas, o que foi considerado satisfatório para a proposta."
   ]
  },
  {
   "cell_type": "code",
   "execution_count": null,
   "id": "c2606faf",
   "metadata": {},
   "outputs": [
    {
     "name": "stderr",
     "output_type": "stream",
     "text": [
      "  0%|          | 1/7613 [00:31<65:59:18, 31.21s/it]WARNING:root:Your application has reached a rate/request limit. Retry will occur after: 86400\n"
     ]
    }
   ],
   "source": [
    "from pathlib import Path\n",
    "import pandas as pd\n",
    "from spotipy import Spotify\n",
    "from spotipy.oauth2 import SpotifyClientCredentials\n",
    "from tqdm import tqdm\n",
    "\n",
    "path = Path(path)\n",
    "df = pd.read_csv(path / 'songs_with_attributes_and_lyrics.csv')\n",
    "\n",
    "ARQUIVO_SAIDA = \"music_dataset_new.csv\"\n",
    "LIMIT = -1 \n",
    "BATCH_SIZE = 50\n",
    "SAVE_FACTOR = 50000\n",
    "\n",
    "client_credentials_manager = SpotifyClientCredentials(\n",
    "    client_id=SPOTIFY_CLIENT_ID,\n",
    "    client_secret=SPOTIFY_SECRET\n",
    ")\n",
    "sp = Spotify(client_credentials_manager=client_credentials_manager)\n",
    "\n",
    "if LIMIT > 0:\n",
    "    df = df.head(LIMIT).copy()\n",
    "\n",
    "try:\n",
    "    df_saida = pd.read_csv(ARQUIVO_SAIDA)\n",
    "except FileNotFoundError:\n",
    "    df_saida = df.copy()\n",
    "    df_saida['year'] = None\n",
    "    df_saida['popularity'] = None\n",
    "\n",
    "ids_faltantes = df.loc[~df['id'].isin(df_saida['id'])].copy()\n",
    "if not ids_faltantes.empty:\n",
    "    ids_faltantes['year'] = None\n",
    "    ids_faltantes['popularity'] = None\n",
    "    df_saida = pd.concat([df_saida, ids_faltantes], ignore_index=True)\n",
    "\n",
    "df_para_processar = df_saida[df_saida['year'].isna() | df_saida['popularity'].isna()].copy()\n",
    "\n",
    "def get_years_and_popularity_batch(track_ids):\n",
    "    years = []\n",
    "    popularity = []\n",
    "    try:\n",
    "        results = sp.tracks(track_ids)\n",
    "        for track in results['tracks']:\n",
    "            if track:\n",
    "                year = int(track['album']['release_date'][:4]) if 'release_date' in track['album'] else None\n",
    "                years.append(year)\n",
    "                popularity.append(track.get('popularity', None))\n",
    "            else:\n",
    "                years.append(None)\n",
    "                popularity.append(None)\n",
    "    except Exception as e:\n",
    "        print(f\"Erro no batch: {e}\")\n",
    "        years = [None] * len(track_ids)\n",
    "        popularity = [None] * len(track_ids)\n",
    "    return years, popularity\n",
    "\n",
    "for i in tqdm(range(0, len(df_para_processar), BATCH_SIZE)):\n",
    "    batch = df_para_processar.iloc[i:i+BATCH_SIZE]\n",
    "    ids_para_buscar = batch['id'].tolist()\n",
    "    anos, popularidade = get_years_and_popularity_batch(ids_para_buscar)\n",
    "\n",
    "    df_saida.loc[df_saida['id'].isin(ids_para_buscar), 'year'] = anos\n",
    "    df_saida.loc[df_saida['id'].isin(ids_para_buscar), 'popularity'] = popularidade\n",
    "\n",
    "    if i % SAVE_FACTOR == 0:\n",
    "        df_saida.to_csv(ARQUIVO_SAIDA, index=False)\n",
    "\n",
    "df_saida.to_csv(ARQUIVO_SAIDA, index=False)"
   ]
  },
  {
   "cell_type": "markdown",
   "id": "bc6d0821",
   "metadata": {},
   "source": [
    ">Executar caso o dataset **clean_music_dataset** não esteja completo\n",
    "\n",
    "No código abaixo o dataset, já com as devidas colunas representando ano e popularidade, é tratado.\n",
    "Para tal as letras são tratadas de modo que possam ser melhor interpretadas pelos modelos de linguagem e a coluna decade é críada, uma vez que o escopo do projeto visa dividir os artistas por decada."
   ]
  },
  {
   "cell_type": "code",
   "execution_count": 4,
   "id": "171bb353",
   "metadata": {},
   "outputs": [],
   "source": [
    "import pandas as pd\n",
    "ARQUIVO_SAIDA = \"music_dataset_new.csv\""
   ]
  },
  {
   "cell_type": "code",
   "execution_count": 5,
   "id": "ec547ee7",
   "metadata": {},
   "outputs": [
    {
     "data": {
      "text/html": [
       "<div>\n",
       "<style scoped>\n",
       "    .dataframe tbody tr th:only-of-type {\n",
       "        vertical-align: middle;\n",
       "    }\n",
       "\n",
       "    .dataframe tbody tr th {\n",
       "        vertical-align: top;\n",
       "    }\n",
       "\n",
       "    .dataframe thead th {\n",
       "        text-align: right;\n",
       "    }\n",
       "</style>\n",
       "<table border=\"1\" class=\"dataframe\">\n",
       "  <thead>\n",
       "    <tr style=\"text-align: right;\">\n",
       "      <th></th>\n",
       "      <th>year</th>\n",
       "      <th>lyrics</th>\n",
       "      <th>name</th>\n",
       "      <th>artists</th>\n",
       "      <th>popularity</th>\n",
       "      <th>decade</th>\n",
       "    </tr>\n",
       "  </thead>\n",
       "  <tbody>\n",
       "    <tr>\n",
       "      <th>0</th>\n",
       "      <td>2016.0</td>\n",
       "      <td>he said he came from jamaica,  he owned a coup...</td>\n",
       "      <td>!</td>\n",
       "      <td>['HELLYEAH']</td>\n",
       "      <td>0.0</td>\n",
       "      <td>2010</td>\n",
       "    </tr>\n",
       "    <tr>\n",
       "      <th>1</th>\n",
       "      <td>2019.0</td>\n",
       "      <td>fucked a bitch, now she running with my kids  ...</td>\n",
       "      <td>!!</td>\n",
       "      <td>Yxngxr1</td>\n",
       "      <td>32.0</td>\n",
       "      <td>2010</td>\n",
       "    </tr>\n",
       "    <tr>\n",
       "      <th>2</th>\n",
       "      <td>2019.0</td>\n",
       "      <td>oh, my god, i'm going crazy</td>\n",
       "      <td>!!! - Interlude</td>\n",
       "      <td>['Glowie']</td>\n",
       "      <td>0.0</td>\n",
       "      <td>2010</td>\n",
       "    </tr>\n",
       "    <tr>\n",
       "      <th>3</th>\n",
       "      <td>2000.0</td>\n",
       "      <td>continuamente se extraña la gente si no puede ...</td>\n",
       "      <td>!!De Repente!!</td>\n",
       "      <td>['Rosendo']</td>\n",
       "      <td>7.0</td>\n",
       "      <td>2000</td>\n",
       "    </tr>\n",
       "    <tr>\n",
       "      <th>4</th>\n",
       "      <td>1986.0</td>\n",
       "      <td>continuamente se extraña la gente si no puede ...</td>\n",
       "      <td>!!De Repente!!</td>\n",
       "      <td>['Rosendo']</td>\n",
       "      <td>16.0</td>\n",
       "      <td>1980</td>\n",
       "    </tr>\n",
       "  </tbody>\n",
       "</table>\n",
       "</div>"
      ],
      "text/plain": [
       "     year                                             lyrics             name  \\\n",
       "0  2016.0  he said he came from jamaica,  he owned a coup...                !   \n",
       "1  2019.0  fucked a bitch, now she running with my kids  ...               !!   \n",
       "2  2019.0                      oh, my god, i'm going crazy    !!! - Interlude   \n",
       "3  2000.0  continuamente se extraña la gente si no puede ...   !!De Repente!!   \n",
       "4  1986.0  continuamente se extraña la gente si no puede ...   !!De Repente!!   \n",
       "\n",
       "        artists  popularity  decade  \n",
       "0  ['HELLYEAH']         0.0    2010  \n",
       "1       Yxngxr1        32.0    2010  \n",
       "2    ['Glowie']         0.0    2010  \n",
       "3   ['Rosendo']         7.0    2000  \n",
       "4   ['Rosendo']        16.0    1980  "
      ]
     },
     "execution_count": 5,
     "metadata": {},
     "output_type": "execute_result"
    }
   ],
   "source": [
    "df = pd.read_csv(ARQUIVO_SAIDA)\n",
    "\n",
    "df = df[['year', 'lyrics', 'name', 'artists', 'popularity']]\n",
    "df['year'] = pd.to_numeric(df['year'], errors='coerce')\n",
    "df = df.dropna(subset=['year'])\n",
    "df['decade'] = (df['year'] // 10 * 10).astype(int)\n",
    "df['lyrics'] = df['lyrics'].str.lower()\n",
    "df['lyrics'] = df['lyrics'].str.replace(r'\\n', ' ', regex=True) \n",
    "df['lyrics'] = df['lyrics'].fillna('')\n",
    "df = df[df['decade'] != 0]\n",
    "\n",
    "df.to_csv(\"clean_music_dataset.csv\", index=False)\n",
    "df.head()"
   ]
  },
  {
   "cell_type": "markdown",
   "id": "6c1c290a",
   "metadata": {},
   "source": [
    "# Treinamento do Modelo\n",
    "\n",
    "No seguinte trecho será realizado:\n",
    "- Tratamentos para balancear o dataset\n",
    "- Treinamento de 4 modelos alternativos\n",
    "- Comparação e escolha do melhor modelo\n",
    "- Salvamento dos pesos por token"
   ]
  },
  {
   "cell_type": "code",
   "execution_count": 1,
   "id": "3195e784",
   "metadata": {},
   "outputs": [
    {
     "data": {
      "text/html": [
       "<div>\n",
       "<style scoped>\n",
       "    .dataframe tbody tr th:only-of-type {\n",
       "        vertical-align: middle;\n",
       "    }\n",
       "\n",
       "    .dataframe tbody tr th {\n",
       "        vertical-align: top;\n",
       "    }\n",
       "\n",
       "    .dataframe thead th {\n",
       "        text-align: right;\n",
       "    }\n",
       "</style>\n",
       "<table border=\"1\" class=\"dataframe\">\n",
       "  <thead>\n",
       "    <tr style=\"text-align: right;\">\n",
       "      <th></th>\n",
       "      <th>year</th>\n",
       "      <th>lyrics</th>\n",
       "      <th>name</th>\n",
       "      <th>artists</th>\n",
       "      <th>popularity</th>\n",
       "      <th>decade</th>\n",
       "    </tr>\n",
       "  </thead>\n",
       "  <tbody>\n",
       "    <tr>\n",
       "      <th>0</th>\n",
       "      <td>2016.0</td>\n",
       "      <td>he said he came from jamaica,  he owned a coup...</td>\n",
       "      <td>!</td>\n",
       "      <td>['HELLYEAH']</td>\n",
       "      <td>0.0</td>\n",
       "      <td>2010</td>\n",
       "    </tr>\n",
       "    <tr>\n",
       "      <th>1</th>\n",
       "      <td>2019.0</td>\n",
       "      <td>fucked a bitch, now she running with my kids  ...</td>\n",
       "      <td>!!</td>\n",
       "      <td>Yxngxr1</td>\n",
       "      <td>32.0</td>\n",
       "      <td>2010</td>\n",
       "    </tr>\n",
       "    <tr>\n",
       "      <th>2</th>\n",
       "      <td>2019.0</td>\n",
       "      <td>oh, my god, i'm going crazy</td>\n",
       "      <td>!!! - Interlude</td>\n",
       "      <td>['Glowie']</td>\n",
       "      <td>0.0</td>\n",
       "      <td>2010</td>\n",
       "    </tr>\n",
       "    <tr>\n",
       "      <th>3</th>\n",
       "      <td>2000.0</td>\n",
       "      <td>continuamente se extraña la gente si no puede ...</td>\n",
       "      <td>!!De Repente!!</td>\n",
       "      <td>['Rosendo']</td>\n",
       "      <td>7.0</td>\n",
       "      <td>2000</td>\n",
       "    </tr>\n",
       "    <tr>\n",
       "      <th>4</th>\n",
       "      <td>1986.0</td>\n",
       "      <td>continuamente se extraña la gente si no puede ...</td>\n",
       "      <td>!!De Repente!!</td>\n",
       "      <td>['Rosendo']</td>\n",
       "      <td>16.0</td>\n",
       "      <td>1980</td>\n",
       "    </tr>\n",
       "  </tbody>\n",
       "</table>\n",
       "</div>"
      ],
      "text/plain": [
       "     year                                             lyrics             name  \\\n",
       "0  2016.0  he said he came from jamaica,  he owned a coup...                !   \n",
       "1  2019.0  fucked a bitch, now she running with my kids  ...               !!   \n",
       "2  2019.0                      oh, my god, i'm going crazy    !!! - Interlude   \n",
       "3  2000.0  continuamente se extraña la gente si no puede ...   !!De Repente!!   \n",
       "4  1986.0  continuamente se extraña la gente si no puede ...   !!De Repente!!   \n",
       "\n",
       "        artists  popularity  decade  \n",
       "0  ['HELLYEAH']         0.0    2010  \n",
       "1       Yxngxr1        32.0    2010  \n",
       "2    ['Glowie']         0.0    2010  \n",
       "3   ['Rosendo']         7.0    2000  \n",
       "4   ['Rosendo']        16.0    1980  "
      ]
     },
     "execution_count": 1,
     "metadata": {},
     "output_type": "execute_result"
    }
   ],
   "source": [
    "import pandas as pd\n",
    "\n",
    "df = pd.read_csv(\"clean_music_dataset.csv\")\n",
    "df.head()"
   ]
  },
  {
   "cell_type": "markdown",
   "id": "3bf0d8ec",
   "metadata": {},
   "source": [
    ">Algumas letras, emboras tratadas anteriormente, seguiram sem conteúdo, portanto isso é novamente tratado, removendo cerca de 10 músicas sem letras do dataset."
   ]
  },
  {
   "cell_type": "code",
   "execution_count": 2,
   "id": "b3426218",
   "metadata": {},
   "outputs": [],
   "source": [
    "df = df[df['lyrics'].notnull()]"
   ]
  },
  {
   "cell_type": "markdown",
   "id": "e31c801e",
   "metadata": {},
   "source": [
    "Como pode ser observado, o dataset é extremamente desbalanceado, possuíndo alto volume de dados na década de 2010 e basicamente nenhum volume de dados antes de 1950.\n",
    "\n",
    "Para melhorar os resultados obtidos, foram realizados dois tratamentos no dataset:\n",
    "- Máximo de 50000 músicas por década, ordenado por popularidade\n",
    "- Remoção de músicas de décadas antes de 1950\n",
    "\n",
    "Essas medidas foram escolhidas pois, para a proposta do trabalho, que pretende analisar as músicas mais impactantes por década, é muito mais valiosa a informação de músicas populares de suas respectivas épocas, não havendo tanta perda em liberar dados de músicas menos populares.\n",
    "Além disso, embora os anos de 50 a 80 possuam também baixo volume de dados, os mesmos foram mantidos devido a relevância desses períodos históricos na história da música, acreditando que o volume de dados existentes para tais anos poderia ser valioso para o resultado do projeto."
   ]
  },
  {
   "cell_type": "code",
   "execution_count": null,
   "id": "ce55a1ab",
   "metadata": {},
   "outputs": [
    {
     "data": {
      "image/png": "[encoded data removed]",
      "text/plain": [
       "<Figure size 640x480 with 1 Axes>"
      ]
     },
     "metadata": {},
     "output_type": "display_data"
    }
   ],
   "source": [
    "import matplotlib.pyplot as plt\n",
    "\n",
    "df['decade'].value_counts().sort_index().plot(kind='bar')\n",
    "plt.title(\"Número de Amostras por Década\")\n",
    "plt.xlabel(\"Década\")\n",
    "plt.ylabel(\"Número de Amostras\")\n",
    "plt.xticks(rotation=45)\n",
    "plt.tight_layout()\n",
    "plt.show()"
   ]
  },
  {
   "cell_type": "code",
   "execution_count": 19,
   "id": "305b56a7",
   "metadata": {},
   "outputs": [
    {
     "name": "stderr",
     "output_type": "stream",
     "text": [
      "C:\\Users\\cailu\\AppData\\Local\\Temp\\ipykernel_26032\\1095210393.py:6: DeprecationWarning: DataFrameGroupBy.apply operated on the grouping columns. This behavior is deprecated, and in a future version of pandas the grouping columns will be excluded from the operation. Either pass `include_groups=False` to exclude the groupings or explicitly select the grouping columns after groupby to silence this warning.\n",
      "  .apply(lambda g: g.head(limite_por_decada))\n"
     ]
    }
   ],
   "source": [
    "limite_por_decada = 50000\n",
    "\n",
    "df = (\n",
    "    df.sort_values(by=\"popularity\", ascending=False)\n",
    "      .groupby(\"decade\", group_keys=False)\n",
    "      .apply(lambda g: g.head(limite_por_decada))\n",
    "      .reset_index(drop=True)\n",
    ")\n",
    "\n",
    "df = df[df['decade'] > 1940]"
   ]
  },
  {
   "cell_type": "code",
   "execution_count": 20,
   "id": "8378dc3b",
   "metadata": {},
   "outputs": [
    {
     "data": {
      "image/png": "[encoded data removed]",
      "text/plain": [
       "<Figure size 640x480 with 1 Axes>"
      ]
     },
     "metadata": {},
     "output_type": "display_data"
    }
   ],
   "source": [
    "df['decade'].value_counts().sort_index().plot(kind='bar')\n",
    "plt.title(\"Número de Amostras por Década\")\n",
    "plt.xlabel(\"Década\")\n",
    "plt.ylabel(\"Número de Amostras\")\n",
    "plt.xticks(rotation=45)\n",
    "plt.tight_layout()\n",
    "plt.show()"
   ]
  },
  {
   "cell_type": "markdown",
   "id": "8d478ab0",
   "metadata": {},
   "source": [
    "Abaixo é realizada uma comparação entre 4 modelos, identificando qual apresentará melhores resultados para ser utilizado na extração de resultados e conclusões do projeto.\n",
    "\n",
    "Dentre os modelos testados foram utilizados Logistic Regression, Multinomial Naive Bayes, Linear SVC e XGBoost.\n",
    "\n",
    "Nota-se que os modelos testados são todos modelos em que é possível identificar o peso das features, uma vez que o projeto depende desse resultado para que conclusões possam ser retiradas.\n",
    "\n",
    "Como o dataset abrange músicas de diversas línguas foram utilizadas stop-words de diversas línguas na vetorização."
   ]
  },
  {
   "cell_type": "code",
   "execution_count": 21,
   "id": "189f170e",
   "metadata": {},
   "outputs": [
    {
     "name": "stderr",
     "output_type": "stream",
     "text": [
      "[nltk_data] Downloading package stopwords to\n",
      "[nltk_data]     C:\\Users\\cailu\\AppData\\Roaming\\nltk_data...\n",
      "[nltk_data]   Package stopwords is already up-to-date!\n"
     ]
    },
    {
     "name": "stdout",
     "output_type": "stream",
     "text": [
      "Treinando XGBoost...\n",
      "Treinando Logistic Regression...\n",
      "Treinando Multinomial Naive Bayes...\n",
      "Treinando Linear SVC...\n",
      "\n",
      "Comparação de Modelos:\n",
      "                     Model  Accuracy  F1 Score\n",
      "1      Logistic Regression  0.363210  0.352863\n",
      "3               Linear SVC  0.357614  0.349093\n",
      "0                  XGBoost  0.358000  0.342412\n",
      "2  Multinomial Naive Bayes  0.335406  0.310911\n"
     ]
    }
   ],
   "source": [
    "from sklearn.model_selection import train_test_split\n",
    "from sklearn.feature_extraction.text import TfidfVectorizer\n",
    "from sklearn.linear_model import LogisticRegression\n",
    "from sklearn.naive_bayes import MultinomialNB\n",
    "from sklearn.svm import LinearSVC\n",
    "from sklearn.metrics import accuracy_score, f1_score\n",
    "from sklearn.preprocessing import LabelEncoder\n",
    "from xgboost import XGBClassifier\n",
    "import pandas as pd\n",
    "import nltk\n",
    "from nltk.corpus import stopwords\n",
    "\n",
    "nltk.download('stopwords')\n",
    "\n",
    "languages = ['english', 'spanish', 'french', 'german', 'portuguese', 'italian']\n",
    "multi_stopwords = set()\n",
    "for lang in languages:\n",
    "    multi_stopwords.update(stopwords.words(lang))\n",
    "\n",
    "vectorizer = TfidfVectorizer(max_features=10000, stop_words=list(multi_stopwords))\n",
    "X = vectorizer.fit_transform(df['lyrics'])\n",
    "\n",
    "le = LabelEncoder()\n",
    "y = le.fit_transform(df['decade']) \n",
    "\n",
    "X_train, X_test, y_train, y_test = train_test_split(X, y, test_size=0.2, random_state=42)\n",
    "\n",
    "models = {\n",
    "    \"XGBoost\": XGBClassifier(\n",
    "        eval_metric='mlogloss',\n",
    "        tree_method='hist'\n",
    "    ),\n",
    "    \"Logistic Regression\": LogisticRegression(max_iter=10000),\n",
    "    \"Multinomial Naive Bayes\": MultinomialNB(),\n",
    "    \"Linear SVC\": LinearSVC(max_iter=10000),\n",
    "}\n",
    "\n",
    "results = []\n",
    "\n",
    "for name, model in models.items():\n",
    "    print(f\"Treinando {name}...\")\n",
    "    \n",
    "    model.fit(X_train, y_train)\n",
    "    y_pred = model.predict(X_test)\n",
    "    \n",
    "    acc = accuracy_score(y_test, y_pred)\n",
    "    f1 = f1_score(y_test, y_pred, average='weighted')\n",
    "    \n",
    "    results.append({\n",
    "        \"Model\": name,\n",
    "        \"Accuracy\": acc,\n",
    "        \"F1 Score\": f1\n",
    "    })\n",
    "\n",
    "results_df = pd.DataFrame(results).sort_values(by=\"F1 Score\", ascending=False)\n",
    "print(\"\\nComparação de Modelos:\")\n",
    "print(results_df)"
   ]
  },
  {
   "cell_type": "markdown",
   "id": "d6b4572b",
   "metadata": {},
   "source": [
    "A regressão logística demonstrou os melhores resultados nos testes realizados, tanto em accuracy quanto em f1-score, portanto foi utilizada como modelo de referência para execução do projeto.\n",
    "\n",
    "Em sequência, o modelo com regressão logística foi retreinado, agora com toda a base de dados, e a partir do mesmo foram extraídos os coeficientes por década para outra estrutura de dados, permitindo que fossem utilizados futuramente.\n",
    "\n",
    "Segue também uma demonstração das 10 palavras mais impactantes por década."
   ]
  },
  {
   "cell_type": "code",
   "execution_count": 22,
   "id": "c07e649a",
   "metadata": {},
   "outputs": [
    {
     "name": "stdout",
     "output_type": "stream",
     "text": [
      "1950s: handle, hallelujah, begin, forgetting, stream, sale, gladly, liza, havin, vow\n",
      "1960s: deed, balloon, carol, cariño, pow, though, spring, belong, penny, complete\n",
      "1970s: allah, afternoon, hah, lalalala, cariño, pass, pale, taken, tryin, flowing\n",
      "1980s: satan, price, cheap, knife, powers, danger, cansado, method, kill, incomprehensible\n",
      "1990s: x4, crucify, thang, peoples, zen, net, props, ak, player, cos\n",
      "2000s: plague, gangsta, nuh, convencer, gotten, ignored, 너무, despite, indeed, floor\n",
      "2010s: claro, rato, whiskey, like, sous, weight, bro, pussy, trust, realest\n",
      "2020s: blessings, diego, ere, adrenaline, vroom, honestly, gana, issues, neck, closure\n"
     ]
    }
   ],
   "source": [
    "import numpy as np\n",
    "\n",
    "clf = LogisticRegression(max_iter=10000)\n",
    "clf.fit(X, y)\n",
    "\n",
    "feature_names = np.array(vectorizer.get_feature_names_out())\n",
    "coefs = clf.coef_\n",
    "\n",
    "decades = le.inverse_transform(clf.classes_)\n",
    "\n",
    "top_words = {}\n",
    "\n",
    "for i, decade in enumerate(decades):\n",
    "    top_indices = np.argsort(coefs[i])[-100:]\n",
    "    top_words[decade] = feature_names[top_indices]\n",
    "\n",
    "decade_word_weights = {\n",
    "    decade: dict(zip(feature_names, coefs[i]))\n",
    "    for i, decade in enumerate(decades)\n",
    "}\n",
    "\n",
    "for decade, words in top_words.items():\n",
    "    print(f\"{decade}s: {', '.join(words[:10])}\")\n"
   ]
  },
  {
   "cell_type": "markdown",
   "id": "48ca3ff9",
   "metadata": {},
   "source": [
    "## Pesquisa de Sentimento com LLM (Opcional)\n",
    "\n",
    "Fora do escopo do projeto, foi realizado um teste utilizando a IA do google Gemini, requerendo uma análise de sentimento baseado nas 100 palavras mais determinantes por década, para possívelmente poder realizar comparações com o imaginario coletivo de cada época.\n",
    "\n",
    "Para tal foi pedido que o modelo de LLM retornasse 3 palavras, considerando sentimento e contexto sociocultural, a partir da lista de 100 palavras mais determinantes fornecidas."
   ]
  },
  {
   "cell_type": "code",
   "execution_count": 25,
   "id": "4ca71b82",
   "metadata": {},
   "outputs": [],
   "source": [
    "import google.generativeai as genai\n",
    "\n",
    "genai.configure(api_key=GEMINI_API_KEY)\n",
    "model = genai.GenerativeModel(model_name=\"gemini-1.5-flash\")"
   ]
  },
  {
   "cell_type": "code",
   "execution_count": 26,
   "id": "14edc644",
   "metadata": {},
   "outputs": [],
   "source": [
    "def analisar_sentimento_decada(palavras):\n",
    "    prompt = f\"\"\"\n",
    "    Você é um analista de sentimentos em letras de músicas.\n",
    "\n",
    "    Dada a seguinte lista de palavras mais frequentes e relevantes para músicas de uma decada específica, identifique qual sentimento ou clima emocional essas palavras em conjunto refletem sobre o espírito daquela época.\n",
    "\n",
    "    Palavras: {', '.join(palavras)}\n",
    "\n",
    "    Analise o sentimento predominante transmitido por essas palavras no contexto de letras musicais da época. \n",
    "    Responda com apenas 3 palavras que melhor descrevem o sentimento e contexto sociocultural que pode ser atrelado a determinada década.\n",
    "    \"\"\"\n",
    "    \n",
    "    response = model.generate_content(prompt)\n",
    "    return response.text.strip()\n"
   ]
  },
  {
   "cell_type": "code",
   "execution_count": 27,
   "id": "b413edb1",
   "metadata": {},
   "outputs": [],
   "source": [
    "analises_sentimento = {}\n",
    "\n",
    "for decada, palavras in top_words.items():\n",
    "    sentimento = analisar_sentimento_decada(palavras)\n",
    "    analises_sentimento[decada] = sentimento"
   ]
  },
  {
   "cell_type": "code",
   "execution_count": 28,
   "id": "647e65f7",
   "metadata": {},
   "outputs": [
    {
     "name": "stdout",
     "output_type": "stream",
     "text": [
      "\n",
      "Análise de Sentimento por Década:\n",
      "1950s: Romântico, nostálgico, esperançoso.\n",
      "1960s: Nostalgia, Otimismo,  Innocência\n",
      "1970s: Liberdade,  Esperança,  Transgressão\n",
      "1980s: Rebelião,  violência,  desilusão.\n",
      "1990s: Agressividade,  materialismo,  rebeldia.\n",
      "2000s: Agressividade,  Materialismo,  Rebelião.\n",
      "2010s: Hedonismo,  materialismo,  rebeldia.\n",
      "2020s: Autodestruição, superficialidade,  ansiedade.\n"
     ]
    }
   ],
   "source": [
    "print(\"\\nAnálise de Sentimento por Década:\")\n",
    "for decada, sentimento in analises_sentimento.items():\n",
    "    print(f\"{decada}s: {sentimento}\")"
   ]
  },
  {
   "cell_type": "markdown",
   "id": "46d152b8",
   "metadata": {},
   "source": [
    "## Geração do Dataset de Afinidade dos Artistas\n",
    "\n",
    ">Executar caso o dataset **artists_afinity** não esteja completo\n",
    "\n",
    "Nessa seção é realizado um novo tratamento dos dados, afim de tornar a análise dos resultados mais simples, nesse tratamento foi criado um novo dataset, composto pelas seguintes colunas:\n",
    "- artista : nome do artista\n",
    "- decada : decada em que o artista possuía músicas (podendo haver mais de uma linha do mesmo artista, uma para cada década)\n",
    "- afinidade_com_epoca : score concedido ao artista analisando a correlação das letras de suas músicas com o padrão de sua época\n",
    "- popularidade : maior score de popularidade obtido por alguma música do artista (utilizado para filtrar artistas mais importantes)\n",
    "\n",
    "**Afinidade com Época** - Essa medida foi cálculada da seguinte forma:\n",
    "- Músicas com mais de um artista foram tratadas, de modo que houvesse mais de uma linha por música, uma para cada artista\n",
    "- Letras dos mesmos artistas foram todas agrupadas em uma mesma string\n",
    "- Frequência de palavras foi extraído para cada artista por época\n",
    "- Frequência por palavra foi multiplicado pelo coeficiente da época respectiva\n",
    "\n",
    "O resultado dessa operação seria o quanto as músicas produzidas pelo artista nessa época estariam alinhadas com o padrão lírico da década."
   ]
  },
  {
   "cell_type": "code",
   "execution_count": 29,
   "id": "8610b626",
   "metadata": {},
   "outputs": [
    {
     "name": "stderr",
     "output_type": "stream",
     "text": [
      "<unknown>:1: SyntaxWarning: invalid decimal literal\n"
     ]
    }
   ],
   "source": [
    "from sklearn.feature_extraction.text import CountVectorizer\n",
    "import ast\n",
    "\n",
    "def parse_artists(entry):\n",
    "    if isinstance(entry, list):\n",
    "        return entry\n",
    "    if isinstance(entry, str):\n",
    "        try:\n",
    "            val = ast.literal_eval(entry)\n",
    "            if isinstance(val, list):\n",
    "                return val\n",
    "            else:\n",
    "                return [val]\n",
    "        except:\n",
    "            return [entry]\n",
    "    return [str(entry)]\n",
    "\n",
    "df['artists'] = df['artists'].apply(parse_artists)\n",
    "df_exploded = df.explode('artists').rename(columns={'artists': 'artist'})\n",
    "\n",
    "artista_letras_por_decada = df_exploded.groupby([\"artist\", \"decade\"])[\"lyrics\"].apply(lambda x: \" \".join(str(t) for t in x))\n"
   ]
  },
  {
   "cell_type": "code",
   "execution_count": 30,
   "id": "d701fb0c",
   "metadata": {},
   "outputs": [],
   "source": [
    "artista_streams_max = df_exploded.groupby(\"artist\")[\"popularity\"].max()\n",
    "\n",
    "def get_frequencias(text):\n",
    "    if not isinstance(text, str) or len(text.strip()) == 0:\n",
    "        return {}\n",
    "    vectorizer = CountVectorizer(stop_words='english')\n",
    "    try:\n",
    "        X = vectorizer.fit_transform([text])\n",
    "        total = X.sum()\n",
    "        return dict(zip(vectorizer.get_feature_names_out(), X.toarray()[0] / total))\n",
    "    except ValueError:\n",
    "        return {}\n",
    "\n",
    "frequencias_por_artista_decada = artista_letras_por_decada.apply(get_frequencias)\n",
    "\n",
    "def calcular_afinidade_combinada(freq_artista, pesos_decada):\n",
    "    score = 0\n",
    "    for palavra, freq in freq_artista.items():\n",
    "        peso = pesos_decada.get(palavra, 0)\n",
    "        score += freq * peso\n",
    "    return score\n",
    "\n",
    "afinidade_resultados = []\n",
    "\n",
    "for (artista, decada), freq in frequencias_por_artista_decada.items():\n",
    "    if decada in decade_word_weights:\n",
    "        score = calcular_afinidade_combinada(freq, decade_word_weights[decada])\n",
    "        popularidade_label = artista_streams_max.get(artista, 0)\n",
    "        afinidade_resultados.append({\n",
    "            \"artista\": artista,\n",
    "            \"decada\": decada,\n",
    "            \"afinidade_com_epoca\": score,\n",
    "            \"popularidade\": popularidade_label\n",
    "        })\n",
    "\n",
    "df_afinidade = pd.DataFrame(afinidade_resultados)\n",
    "df_afinidade.to_csv(\"artists_afinity.csv\", index=False)\n"
   ]
  },
  {
   "cell_type": "markdown",
   "id": "65b5707e",
   "metadata": {},
   "source": [
    "## Análise dos Resultados de Afinidade dos Artistas\n",
    "\n",
    "Nessa seção é utilizado o novo dataset criado para:\n",
    "- Encontrar quais são os artistas mais alinhados com sua respectiva época\n",
    "- Analisar quais épocas possuem os artistas mais alinhados em média\n",
    "- Discutir possíveis causas desses resultados"
   ]
  },
  {
   "cell_type": "code",
   "execution_count": 31,
   "id": "ee7bee9b",
   "metadata": {},
   "outputs": [
    {
     "data": {
      "text/html": [
       "<div>\n",
       "<style scoped>\n",
       "    .dataframe tbody tr th:only-of-type {\n",
       "        vertical-align: middle;\n",
       "    }\n",
       "\n",
       "    .dataframe tbody tr th {\n",
       "        vertical-align: top;\n",
       "    }\n",
       "\n",
       "    .dataframe thead th {\n",
       "        text-align: right;\n",
       "    }\n",
       "</style>\n",
       "<table border=\"1\" class=\"dataframe\">\n",
       "  <thead>\n",
       "    <tr style=\"text-align: right;\">\n",
       "      <th></th>\n",
       "      <th>artista</th>\n",
       "      <th>decada</th>\n",
       "      <th>afinidade_com_epoca</th>\n",
       "      <th>popularidade</th>\n",
       "    </tr>\n",
       "  </thead>\n",
       "  <tbody>\n",
       "    <tr>\n",
       "      <th>47448</th>\n",
       "      <td>RetroVision</td>\n",
       "      <td>2010</td>\n",
       "      <td>2.993443</td>\n",
       "      <td>37.0</td>\n",
       "    </tr>\n",
       "    <tr>\n",
       "      <th>62933</th>\n",
       "      <td>Wuki</td>\n",
       "      <td>2010</td>\n",
       "      <td>2.697830</td>\n",
       "      <td>72.0</td>\n",
       "    </tr>\n",
       "    <tr>\n",
       "      <th>41283</th>\n",
       "      <td>Neitan</td>\n",
       "      <td>2020</td>\n",
       "      <td>2.607891</td>\n",
       "      <td>46.0</td>\n",
       "    </tr>\n",
       "    <tr>\n",
       "      <th>47293</th>\n",
       "      <td>Reinier Zonneveld</td>\n",
       "      <td>2020</td>\n",
       "      <td>2.221461</td>\n",
       "      <td>42.0</td>\n",
       "    </tr>\n",
       "    <tr>\n",
       "      <th>15275</th>\n",
       "      <td>Dimitri Vegas &amp; Like Mike;Vini Vici;MATTN</td>\n",
       "      <td>2020</td>\n",
       "      <td>2.184391</td>\n",
       "      <td>44.0</td>\n",
       "    </tr>\n",
       "  </tbody>\n",
       "</table>\n",
       "</div>"
      ],
      "text/plain": [
       "                                         artista  decada  afinidade_com_epoca  \\\n",
       "47448                                RetroVision    2010             2.993443   \n",
       "62933                                       Wuki    2010             2.697830   \n",
       "41283                                     Neitan    2020             2.607891   \n",
       "47293                          Reinier Zonneveld    2020             2.221461   \n",
       "15275  Dimitri Vegas & Like Mike;Vini Vici;MATTN    2020             2.184391   \n",
       "\n",
       "       popularidade  \n",
       "47448          37.0  \n",
       "62933          72.0  \n",
       "41283          46.0  \n",
       "47293          42.0  \n",
       "15275          44.0  "
      ]
     },
     "execution_count": 31,
     "metadata": {},
     "output_type": "execute_result"
    }
   ],
   "source": [
    "df_afinidade = pd.read_csv(\"artists_afinity.csv\")\n",
    "df_afinidade = df_afinidade.sort_values(by=\"afinidade_com_epoca\", ascending=False)\n",
    "df_afinidade.head()"
   ]
  },
  {
   "cell_type": "code",
   "execution_count": 51,
   "id": "6c4cb723",
   "metadata": {},
   "outputs": [],
   "source": [
    "def mostrar_afinidade_por_decada(df_afinidade, decada, popularity_percent ,top_n=10):\n",
    "    popularity_treshold = df_afinidade['popularidade'].quantile(popularity_percent/1000)\n",
    "    df_filtrado = df_afinidade[df_afinidade['decada'] == decada]\n",
    "    df_filtrado = df_filtrado[df_filtrado['popularidade'] >= popularity_treshold]\n",
    "\n",
    "    if df_filtrado.empty:\n",
    "        print(f\"Nenhum dado encontrado para a década {decada}.\")\n",
    "        return\n",
    "\n",
    "    print(f\"\\nTop {top_n} artistas mais alinhados com os anos {decada}:\")\n",
    "    top = df_filtrado.sort_values(by='afinidade_com_epoca', ascending=False).head(top_n)\n",
    "    for i, row in top.iterrows():\n",
    "        print(f\"{row['artista']}: {row['afinidade_com_epoca']:.2f}\")\n",
    "\n",
    "    print(f\"\\nTop {top_n} artistas menos alinhados com os anos {decada}:\")\n",
    "    bottom = df_filtrado.sort_values(by='afinidade_com_epoca', ascending=True).head(top_n)\n",
    "    for i, row in bottom.iterrows():\n",
    "        print(f\"{row['artista']}: {row['afinidade_com_epoca']:.2f}\")\n"
   ]
  },
  {
   "cell_type": "markdown",
   "id": "c89952e8",
   "metadata": {},
   "source": [
    "A função abaixo permite encontrar os top10 e botton10 em alinhamento com a época para cada década, filtrados por um percentil de popularidade de 1 a 999.\n",
    "\n",
    "Com essa ferramenta é possível analisar quais artistas mais faziam parte de seu respectivo movimento musical, algo como, qual o artista que mais representa a década de 90 ou a década de 60."
   ]
  },
  {
   "cell_type": "code",
   "execution_count": 63,
   "id": "8371c506",
   "metadata": {},
   "outputs": [
    {
     "name": "stdout",
     "output_type": "stream",
     "text": [
      "\n",
      "Top 10 artistas mais alinhados com os anos 1980:\n",
      "Survivor: 0.25\n",
      "Lionel Richie: 0.25\n",
      "Alphaville: 0.24\n",
      "Bob Marley & The Wailers: 0.23\n",
      "Savage: 0.21\n",
      "Bonnie Tyler: 0.20\n",
      "Miki Matsubara: 0.19\n",
      "Queen: 0.19\n",
      "Roxette: 0.19\n",
      "AC/DC: 0.19\n",
      "\n",
      "Top 10 artistas menos alinhados com os anos 1980:\n",
      "*NSYNC: -0.08\n",
      "The Monkees: -0.04\n",
      "John Lennon: -0.03\n",
      "Travis Tritt: -0.03\n",
      "The Doobie Brothers: -0.02\n",
      "Etta James: -0.02\n",
      "Tammi Terrell: -0.01\n",
      "Daddy Yankee: -0.01\n",
      "Earth, Wind & Fire: -0.01\n",
      "Frank Sinatra: -0.01\n"
     ]
    }
   ],
   "source": [
    "decada = 1980\n",
    "# Popularidade em percentil (0-1000)\n",
    "popularidade = 960\n",
    "\n",
    "mostrar_afinidade_por_decada(df_afinidade, decada, popularidade)"
   ]
  },
  {
   "cell_type": "code",
   "execution_count": 58,
   "id": "16e8c68e",
   "metadata": {},
   "outputs": [],
   "source": [
    "import matplotlib.pyplot as plt\n",
    "\n",
    "def plot_afinidade_por_decada(df_afinidade, treshold):\n",
    "    decadas = df_afinidade['decada'].unique()\n",
    "    afinidade_diff = []\n",
    "    for decada in sorted(decadas):\n",
    "        df_decada = df_afinidade[df_afinidade['decada'] == decada]\n",
    "        max_popularity = df_decada['popularidade'].max()\n",
    "        df_decada = df_decada[df_decada['popularidade'] >= max_popularity * treshold]\n",
    "        if not df_decada.empty:\n",
    "            afinidade_diff.append(df_decada['afinidade_com_epoca'].mean())\n",
    "        else:\n",
    "            afinidade_diff.append(0)\n",
    "\n",
    "    plt.figure(figsize=(12, 6))\n",
    "    plt.bar(sorted(decadas), afinidade_diff, color='skyblue')\n",
    "    plt.xlabel('Década')\n",
    "    plt.ylabel('Diferença de Afinidade')\n",
    "    plt.title('Diferença de Afinidade com a Década por Popularidade')\n",
    "    plt.xticks(sorted(decadas), rotation=45)\n",
    "    plt.grid(axis='y')\n",
    "    plt.tight_layout()\n"
   ]
  },
  {
   "cell_type": "markdown",
   "id": "189d9c57",
   "metadata": {},
   "source": [
    "Os gráficos abaixo permitem analisar em quais décadas os artistas mais estavam próximos e mais distantes em termos líricos, possibilitando certas conclusões e análises em função da história da música.\n",
    "\n",
    "O primeiro gráfico é uma representação da média dos artistas mais populares de suas épocas, enquanto o segundo gráfico trata dos artistas em geral, sem distinção por popularidade."
   ]
  },
  {
   "cell_type": "code",
   "execution_count": 38,
   "id": "b60bb2a0",
   "metadata": {},
   "outputs": [
    {
     "data": {
      "image/png": "[encoded data removed]",
      "text/plain": [
       "<Figure size 1200x600 with 1 Axes>"
      ]
     },
     "metadata": {},
     "output_type": "display_data"
    }
   ],
   "source": [
    "plot_afinidade_por_decada(df_afinidade, 0.9)"
   ]
  },
  {
   "cell_type": "code",
   "execution_count": 39,
   "id": "8ec576aa",
   "metadata": {},
   "outputs": [
    {
     "data": {
      "image/png": "[encoded data removed]",
      "text/plain": [
       "<Figure size 1200x600 with 1 Axes>"
      ]
     },
     "metadata": {},
     "output_type": "display_data"
    }
   ],
   "source": [
    "plot_afinidade_por_decada(df_afinidade, 0)"
   ]
  },
  {
   "cell_type": "markdown",
   "id": "6b79aa05",
   "metadata": {},
   "source": [
    "### Conclusão\n",
    "\n",
    "Os resultados obtidos no projeto podem ser utilizados como evidências interessantes para tratar a hipótese inicial de que artistas contemporâneos possuem maior tendência a possuírem líricas semelhantes que artistas antigos. Para tal, primeiramente há de se considerar os dois gráficos acima como de resultados extremamente semelhantes, portanto não se pode considerar que haja diferenças significativas entre os artistas mais populares e menos populares de suas épocas em termos de afinidade por época.\n",
    "\n",
    "Analisando os gráficos gerados evidenciando a média de afinidade dos artistas por década pode ser confirmada a hipótese inicial, de que os artistas contemporâneos tendem a possuir maior afinidade por época, uma vez que possuem o maior índice da história nessa métrica, porém não por um crescimento linear, como pode ser observado, ressaltando que não existe um mecanismo que correlacione diretamente as décadas passadas com a afinidade dos artistas para com sua época.\n",
    "\n",
    "Por outro lado, esse gráfico pode ser analisado através da história da música popular, indicando um mecanismo muito mais provável e possível para os altos níveis de correlação entre artistas. Como pode ser observado, nos anos 50 e 60 também haveria um alto índice de afinidade, que decai para um ponto mínimo nos anos 80 e volta a subir a partir dai para uma nova máxima histórica.\n",
    "\n",
    "Esse gráfico pode ser interpretado por um movimento de virada na história da música, saindo de um genero extremamente predominante do rock dos anos 50 e 60, para suas variações, como punk e grunge, e movimentos musicais alternativos, como pop e rap, que se tornariam nos anos 2000 o novo movimento predominante.\n",
    "\n",
    "Por fim, esse trabalho responde a hipótese inicial, ao negar um mecanismo que gere uma tendência a afinidade maior entre artistas com o passar do tempo, e gera novas questões em relação a possíveis mecanismos que acarretem nesse comportamento, assim como o sugerido no parágrafo acima, podendo ser agregado a trabalhos que façam a mesma análise por generos e localidades musicais, a título de exemplo."
   ]
  }
 ],
 "metadata": {
  "kernelspec": {
   "display_name": "venv",
   "language": "python",
   "name": "python3"
  },
  "language_info": {
   "codemirror_mode": {
    "name": "ipython",
    "version": 3
   },
   "file_extension": ".py",
   "mimetype": "text/x-python",
   "name": "python",
   "nbconvert_exporter": "python",
   "pygments_lexer": "ipython3",
   "version": "3.12.10"
  }
 },
 "nbformat": 4,
 "nbformat_minor": 5
}
